{
 "cells": [
  {
   "cell_type": "code",
   "execution_count": null,
   "metadata": {},
   "outputs": [],
   "source": [
    "import urllib \n",
    "import json\n",
    "import re\n",
    "\n",
    "with open('data/04.json',encoding='utf-8') as f: \n",
    "    tweets = json.load(f)\n",
    "\n",
    "url = 'http://www.sentiment140.com/api/bulkClassifyJson?appid=name@brown.edu' \n",
    "\n",
    "for i in range(len(tweets)):\n",
    "    print(i)\n",
    "    text = tweets[i][0]['text']\n",
    "    text = ' '.join(re.sub(\"(@[A-Za-z0-9]+)|([^0-9A-Za-z \\t])|(\\w+:\\/\\/\\S+)\", \" \", text).split()) \n",
    "    values = {'data': [{'text': text}]} \n",
    "\n",
    "    data = json.dumps(values)\n",
    "    response = urllib.request.urlopen(url, data=data.encode(\"utf-8\"))\n",
    "    page = response.read()\n",
    "\n",
    "    json_obj = json.loads(page)\n",
    "    result = json_obj['data'][0]['polarity']\n",
    "    tweets[i][0]['sentiment140'] = result\n"
   ]
  },
  {
   "cell_type": "code",
   "execution_count": null,
   "metadata": {},
   "outputs": [],
   "source": [
    "print(len(tweets))"
   ]
  },
  {
   "cell_type": "code",
   "execution_count": null,
   "metadata": {},
   "outputs": [],
   "source": [
    "with open('04new.json', 'w', encoding='utf-8') as outfile:   \n",
    "    json.dump(tweets, outfile, ensure_ascii=False, indent=4) \n",
    "\n",
    "with open('04new.json',encoding='utf-8') as outf:\n",
    "    line = json.load(outf)\n"
   ]
  },
  {
   "cell_type": "code",
   "execution_count": null,
   "metadata": {},
   "outputs": [],
   "source": []
  }
 ],
 "metadata": {
  "kernelspec": {
   "display_name": "Python 3",
   "language": "python",
   "name": "python3"
  },
  "language_info": {
   "codemirror_mode": {
    "name": "ipython",
    "version": 3
   },
   "file_extension": ".py",
   "mimetype": "text/x-python",
   "name": "python",
   "nbconvert_exporter": "python",
   "pygments_lexer": "ipython3",
   "version": "3.7.4"
  }
 },
 "nbformat": 4,
 "nbformat_minor": 2
}
