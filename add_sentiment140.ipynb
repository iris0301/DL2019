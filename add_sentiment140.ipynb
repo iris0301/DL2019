{
 "cells": [
  {
   "cell_type": "code",
   "execution_count": 15,
   "metadata": {},
   "outputs": [
    {
     "name": "stdout",
     "output_type": "stream",
     "text": [
      "@tatenbjanes I remember where I was when I first heard this song. Will always be my favorite!!\n",
      "0.375\n",
      "b'{\"data\":[{\"meta\":{\"language\":\"en\"},\"text\":\"@tatenbjanes I remember where I was when I first heard this song. Will always be my favorite!!\",\"polarity\":4}]}\\n'\n",
      "4\n"
     ]
    }
   ],
   "source": [
    "import urllib \n",
    "import json\n",
    "\n",
    "with open('data/11-10.json',encoding='utf-8') as f: \n",
    "    tweets = json.load(f)\n",
    "print(tweets[3][0]['text'])\n",
    "print(tweets[3][0]['sentiment'])\n",
    "\n",
    "\n",
    "\n",
    "\n",
    "\n",
    "url = 'http://www.sentiment140.com/api/bulkClassifyJson?appid=name@brown.edu' \n",
    "text = tweets[3][0]['text']\n",
    "values = {'data': [{'text': text}]} \n",
    "\n",
    "data = json.dumps(values)\n",
    "response = urllib.request.urlopen(url, data=data.encode(\"utf-8\"))\n",
    "page = response.read()\n",
    "print(page)\n",
    "\n",
    "json_obj = json.loads(page)\n",
    "print(json_obj['data'][0]['polarity'])\n"
   ]
  },
  {
   "cell_type": "code",
   "execution_count": null,
   "metadata": {},
   "outputs": [],
   "source": []
  }
 ],
 "metadata": {
  "kernelspec": {
   "display_name": "Python 3",
   "language": "python",
   "name": "python3"
  },
  "language_info": {
   "codemirror_mode": {
    "name": "ipython",
    "version": 3
   },
   "file_extension": ".py",
   "mimetype": "text/x-python",
   "name": "python",
   "nbconvert_exporter": "python",
   "pygments_lexer": "ipython3",
   "version": "3.7.4"
  }
 },
 "nbformat": 4,
 "nbformat_minor": 2
}
