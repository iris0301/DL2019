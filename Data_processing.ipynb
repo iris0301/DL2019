{
 "cells": [
  {
   "cell_type": "code",
   "execution_count": 7,
   "metadata": {},
   "outputs": [
    {
     "name": "stdout",
     "output_type": "stream",
     "text": [
      "Automatically created module for IPython interactive environment\n"
     ]
    },
    {
     "name": "stderr",
     "output_type": "stream",
     "text": [
      "[nltk_data] Downloading package wordnet to\n",
      "[nltk_data]     /Users/iris0301/nltk_data...\n",
      "[nltk_data]   Unzipping corpora/wordnet.zip.\n"
     ]
    },
    {
     "name": "stdout",
     "output_type": "stream",
     "text": [
      "[['realiz tonight titti man 😂 😎' 'positive']\n",
      " ['capper' 'neutral']\n",
      " ['actin like realli want gon get fuck good get feel 😋' 'positive']\n",
      " ['rememb first hear song alway favorit' 'positive']\n",
      " ['don t need cupcak ken cmon' 'neutral']\n",
      " ['ikyfl 😭' 'negative']\n",
      " ['cant go back sleep' 'negative']\n",
      " ['haha true 😂' 'positive']\n",
      " ['bounc shit forev knee' 'negative']\n",
      " ['btw devour blog day love back' 'positive']\n",
      " ['get forev onli god know much love mrsgarza' 'positive']\n",
      " ['alway felt should lion senat presid glad neither' 'positive']\n",
      " ['daniel tell drink more wine while alreadi kinda buzz' 'positive']\n",
      " ['don t do drug kid 🤧' 'negative']\n",
      " ['twitter get troubl parent idc sad' 'negative']\n",
      " ['don t even get fade anymor' 'negative']\n",
      " ['win t help california forest fire' 'neutral']\n",
      " ['probabl would ve die go astro fest' 'negative']\n",
      " ['can disappear no one would notic' 'neutral']\n",
      " ['funclejustin' 'neutral']]\n",
      "1804\n"
     ]
    }
   ],
   "source": [
    "print(__doc__)\n",
    "\n",
    "import numpy as np\n",
    "import re\n",
    "import json\n",
    "import nltk\n",
    "try:\n",
    "    nltk.data.find('corpora/stopwords')\n",
    "except LookupError:\n",
    "    nltk.download('stopwords')\n",
    "    nltk.download(\"words\")\n",
    "nltk.download('wordnet')\n",
    "from nltk.stem.wordnet import WordNetLemmatizer\n",
    "\n",
    "from nltk.stem import SnowballStemmer\n",
    "from nltk.tokenize import RegexpTokenizer\n",
    "\n",
    "import csv\n",
    "\n",
    "with open('emoji/emoji_final_join.json',encoding='utf-8') as f: \n",
    "    emoji_list = json.load(f)\n",
    "\n",
    "\n",
    "stop_word = [line.rstrip('\\r\\n') for line in open(\"stop_words.txt\")]\n",
    "\n",
    "    \n",
    "\n",
    "def split(word): \n",
    "    return list(word) \n",
    "\n",
    "def clean(text,emoji):\n",
    "    am = text\n",
    "    text = text.lower()\n",
    "    \n",
    "    text = ' '.join(re.sub(\"(@[A-Za-z0-9]+)|([^0-9A-Za-z \\t])|(\\w+:\\/\\/\\S+)\", \" \", text).split()) \n",
    "    text = text.split()\n",
    "\n",
    "    newtext = [x for x in text if not x.startswith('@') and not x.startswith('https')]\n",
    "    newtext = [x for x in text if x not in stop_word]\n",
    "    newtext = [WordNetLemmatizer().lemmatize(x,'v') for x in newtext]\n",
    "    newtext = ' '.join(newtext)\n",
    "    \n",
    "    tokenizer = RegexpTokenizer(r'\\w+')\n",
    "    newtext = tokenizer.tokenize(newtext)\n",
    "    #stop_words = stopwords.words('english')\n",
    "    #newtext =  [w for w in newtext if not w in stop_words]\n",
    "    #stopwords.words will delete word 'not' which is important for sentiment analysis, so we don't remove stopwords.\n",
    "    stemmer = SnowballStemmer('english')\n",
    "    newtext = list(map(stemmer.stem, newtext))\n",
    "    emojis = split(emoji)\n",
    "    newtext = newtext + emojis\n",
    "    label = 0\n",
    "    for ele in newtext:\n",
    "        if ele =='amp':\n",
    "            label = 1\n",
    "\n",
    "    newtext = ' '.join(newtext)\n",
    "    if label == 1:\n",
    "        newtext = newtext.replace('amp','and')\n",
    "   \n",
    "    #print(newtext)\n",
    "    return newtext\n",
    "    \n",
    "\n",
    "\n",
    "\n",
    "with open('smalldata.csv',encoding=\"utf8\") as words_file:\n",
    "    csv_reader = csv.DictReader(words_file, delimiter = ',')\n",
    "    data = []\n",
    "    for row in csv_reader:\n",
    "        cleaned_row = []\n",
    "        clean_text = clean(row['Text'],row['Emoji'])\n",
    "        \n",
    "        if len(clean_text) == 0:\n",
    "            continue\n",
    "            \n",
    "        if float(row['Sentiment']) > 0 and int(row['Sentiment140']) == 4:\n",
    "            sentiment = 'positive'\n",
    "        elif float(row['Sentiment']) < 0 and int(row['Sentiment140']) == 0:\n",
    "            sentiment = 'negative'\n",
    "        elif float(row['Sentiment']) == 0 and int(row['Sentiment140']) == 2:\n",
    "            if float(row['Emoji_sentiment']) > 0:\n",
    "                sentiment = 'positive'\n",
    "            elif float(row['Emoji_sentiment']) < 0:\n",
    "                sentiment = 'negative'\n",
    "            else:\n",
    "                sentiment = 'neutral'\n",
    "        elif float(row['Sentiment']) == 0:\n",
    "            if int(row['Sentiment140']) == 0:\n",
    "                sentiment = 'negative'\n",
    "            if int(row['Sentiment140']) == 4:\n",
    "                sentiment = 'positive'\n",
    "        elif int(row['Sentiment140']) == 2:\n",
    "            if float(row['Sentiment']) < 0:\n",
    "                sentiment = 'negative'\n",
    "            if float(row['Sentiment']) > 0:\n",
    "                sentiment = 'positive'\n",
    "        else:\n",
    "            continue\n",
    "            \n",
    "        \n",
    "        cleaned_row.append(clean_text)\n",
    "        cleaned_row.append(sentiment)\n",
    "        #cleaned_row.append(row['Emoji'])\n",
    "        data.append(np.array(cleaned_row))\n",
    "    data = np.array(data)\n",
    "    \n",
    "print(data[:20])\n",
    "print(len(data))"
   ]
  },
  {
   "cell_type": "code",
   "execution_count": 8,
   "metadata": {},
   "outputs": [
    {
     "name": "stdout",
     "output_type": "stream",
     "text": [
      "['positive' 'neutral' 'positive' ... 'neutral' 'neutral' 'positive']\n",
      "['realiz tonight titti man 😂 😎' 'capper'\n",
      " 'actin like realli want gon get fuck good get feel 😋' ...\n",
      " 'quiero cerrar todo por un tiempo'\n",
      " 'make comeback don t call comeback though' 'right lol']\n"
     ]
    }
   ],
   "source": [
    "Y = data[:,1]\n",
    "X = data[:,0]\n",
    "print(Y)\n",
    "print(X)"
   ]
  },
  {
   "cell_type": "code",
   "execution_count": 22,
   "metadata": {},
   "outputs": [
    {
     "name": "stdout",
     "output_type": "stream",
     "text": [
      "{'realiz': 0, 'tonight': 1, 'titti': 2, 'man': 3, '😂': 4, '😎': 5, 'capper': 6, 'actin': 7, 'like': 8, 'realli': 9, 'want': 10, 'gon': 11, 'get': 12, 'fuck': 13, 'good': 14, 'feel': 15, '😋': 16, 'rememb': 17, 'first': 18, 'hear': 19, 'song': 20, 'alway': 21, 'favorit': 22, 'don': 23, 't': 24, 'need': 25, 'cupcak': 26, 'ken': 27, 'cmon': 28, 'ikyfl': 29, '😭': 30, 'cant': 31, 'go': 32, 'back': 33, 'sleep': 34, 'haha': 35, 'true': 36, 'bounc': 37, 'shit': 38, 'forev': 39, 'knee': 40, 'btw': 41, 'devour': 42, 'blog': 43, 'day': 44, 'love': 45, 'onli': 46, 'god': 47, 'know': 48, 'much': 49, 'mrsgarza': 50, 'felt': 51, 'should': 52, 'lion': 53, 'senat': 54, 'presid': 55, 'glad': 56, 'neither': 57, 'daniel': 58, 'tell': 59, 'drink': 60, 'more': 61, 'wine': 62, 'while': 63, 'alreadi': 64, 'kinda': 65, 'buzz': 66, 'do': 67, 'drug': 68, 'kid': 69, '🤧': 70, 'twitter': 71, 'troubl': 72, 'parent': 73, 'idc': 74, 'sad': 75, 'even': 76, 'fade': 77, 'anymor': 78, 'win': 79, 'help': 80, 'california': 81, 'forest': 82, 'fire': 83, 'probabl': 84, 'would': 85, 've': 86, 'die': 87, 'astro': 88, 'fest': 89, 'can': 90, 'disappear': 91, 'no': 92, 'one': 93, 'notic': 94, 'funclejustin': 95, 'thing': 96, 'bout': 97, 'imma': 98, 'mother': 99, 'anyth': 100, 'n': 101, 'guy': 102, 'fend': 103, 'run': 104, 'money': 105, 'up': 106, 'turn': 107, 'didn': 108, 'matter': 109, 'shelton': 110, 'call': 111, 'walk': 112, 'sometim': 113, 'stab': 114, 'mf': 115, 'let': 116, 'see': 117, 'have': 118, 'stitch': 119, 'em': 120, 'kiss': 121, 'wind': 122, 'say': 123, 'sorri': 124, 'week': 125, 'myy': 126, 'moustach': 127, 'support': 128, 'pleas': 129, 'donat': 130, 'movemb': 131, 'effort': 132, 'chang': 133, 'face': 134, 'men': 135, 'health': 136, 'south': 137, 'lake': 138, 'union': 139, 'seattl': 140, 'actual': 141, 'grow': 142, 'mental': 143, 'and': 144, 'life': 145, 'calm': 146, 'sight': 147, 'mind': 148, 'narciso': 149, 'atkinson': 150, 'never': 151, 'meza13': 152, '1974': 153, '18': 154, 'oh': 155, 'disco': 156, 'jazz': 157, 'donna': 158, 'summer': 159, 'toni': 160, 'bennett': 161, 'sinatra': 162, 'armstrong': 163, 'ray': 164, 'charl': 165, 'ella': 166, 'fitzgerald': 167, '🎷': 168, '🎹': 169, '🎺': 170, 'anyon': 171, 'houston': 172, 'come': 173, 'arlington': 174, 'tmrw': 175, 'honest': 176, 'well': 177, 'fargo': 178, 'worst': 179, 'fact': 180, 'wardo': 181, 'still': 182, 'follow': 183, 'sjshark': 184, 'bring': 185, 'organ': 186, 'capac': 187, 'happi': 188, 'birthday': 189, 'babi': 190, 'muvaaaa': 191, 'time': 192, 'look': 193, 'nice': 194, 'brainless': 195, 'bimbo': 196, 'show': 197, 'dark': 198, 'web': 199, 'real': 200, 'few': 201, 'robot': 202, 'ooh': 203, 'not': 204, 'bad': 205, 'lana': 206, 'del': 207, 'rey': 208, 'wish': 209, 'bodi': 210, 'graveyard': 211, 'georg': 212, 'bernard': 213, 'shaw': 214, 'futur': 215, 'uah': 216, 'charger': 217, 'vbchsv': 218, 'unitedwecharg': 219, 'wcha': 220, 'wearewcha': 221, 'uahhockey': 222, 'uahmenshockey': 223, 'coachmikecorbett': 224, 'huntsvilleproud': 225, 'menshockey': 226, 'collegehockey': 227, 'ncaahockey': 228, 'sportsphotograph': 229, 'uahathlet': 230, 'uahc': 231, 'pereyra': 232, 'lmfao': 233, 'pendeja': 234, '🤣': 235, 'marriott': 236, 'st': 237, 'loui': 238, 'grand': 239, '💛': 240, 'damn': 241, 'wtf': 242, 'annoy': 243, 'luciano': 244, 'tri': 245, 'pool': 246, 'nake': 247, 'piss': 248, 'work': 249, 'home': 250, 'busch4harvick': 251, 'sweepstak': 252, 'les': 253, 'quiero': 254, 'pendejo': 255, '😍': 256, 'airpod': 257, 'mom': 258, 'airplug': 259, 'visit': 260, 'acu': 261, 'acuna': 262, 'live': 263, 'person': 264, 'comedi': 265, 'base': 266, 'erick': 267, 'peruvian': 268, 'latino': 269, 'america': 270, '8pm': 271, 'eat': 272, 'italian': 273, 'civil': 274, 'right': 275, '😆': 276, 'rb': 277, 'gogo81old': 278, 'kelly87': 279, 'eric': 280, 'mannn': 281, 'forget': 282, 'name': 283, 'properti': 284, 'kiddo': 285, 'smh': 286, 'take': 287, 'peopl': 288, 're': 289, 'sick': 290, 'gari': 291, 'militari': 292, 'cali': 293, 'use': 294, 'hit': 295, 'everi': 296, 'food': 297, 'chain': 298, 'offer': 299, 'deal': 300, 'veteran': 301, 'map': 302, 'morn': 303, 'set': 304, 'liter': 305, 'ten': 306, 'meal': 307, 'year': 308, 'oliv': 309, 'garden': 310, 'twice': 311, 'ohtobeyoungagain': 312, 'allthelili': 313, 'reason': 314, 'watch': 315, 'credit': 316, 'score': 317, 'almost': 318, '800': 319, '🤠': 320, 'natur': 321, 'beauti': 322, 'two': 323, 'side': 324, 'stori': 325, 'weather': 326, 'perfect': 327, 'quiet': 328, 'pensiv': 329, 'moment': 330, 'reflect': 331, 'sacrific': 332, 'make': 333, 'daili': 334, 'servic': 335, 'member': 336, 'everybodi': 337, '🇺': 338, '🇸': 339, 'nerddd': 340, 'vacat': 341, '😅': 342, 'y': 343, 'boy': 344, 'fast': 345, 'r1': 346, 'constant': 347, 'slander': 348, 'greatest': 349, 'ever': 350, 'play': 351, 'game': 352, 'might': 353, 'role': 354, 'gang': 355, '🤷': 356, 'suprm': 357, 'bb': 358, 'armi': 359, 'agre': 360, '100': 361, 'fandom': 362, 'mess': 363, 'most': 364, 'give': 365, 'embarrass': 366, 'night': 367, 'fasho': 368, 'late': 369, 'post': 370, 'antic': 371, 'bella': 372, 'noch': 373, 'ain': 374, 'sinc': 375, 'bow': 376, 'baton': 377, 'roug': 378, 'parti': 379, 'spot': 380, 'load': 381, 'da': 382, 'clip': 383, 'im': 384, 'grabbin': 385, 'ya': 386, 'dick': 387, '😌': 388, 'sarah': 389, 'sze': 390, 'surround': 391, 'sarahsz': 392, 'moma': 393, 'museum': 394, 'modern': 395, 'art': 396, 'snapchat': 397, 'filter': 398, 'anti': 399, 'black': 400, 'color': 401, 'mean': 402, 'goooooooooooo': 403, 'vegan': 404, 'tamal': 405, 'ask': 406, 'shant': 407, 'hello': 408, 'q': 409, 'ed': 410, '👍': 411, '💖': 412, 'though': 413, 'mira': 414, 'mesa': 415, 'put': 416, 'shadow': 417, 'bulbasaur': 418, 'gym': 419, 'bet': 420, 'hour': 421, 'lame': 422, 'line': 423, 'tat': 424, 'thanksgiv': 425, 'cappuccino': 426, 'oreo': 427, 'hot': 428, 'chocol': 429, 'hire': 430, 'airport': 431, 'specialist': 432, 'citi': 433, 'counti': 434, 'san': 435, 'francisco': 436, 'intern': 437, 'job': 438, 'narrat': 439, 'newest': 440, 'explain': 441, 'netflix': 442, 'deadlinewhitehous': 443, 'think': 444, 'corrupttraitortrump': 445, 'word': 446, 'carnag': 447, 'general': 448, 'speak': 449, 'capabl': 450, 'impeachtrumpnow': 451, '5': 452, 'z': 453, 'sylvia': 454, 'buena': 455, 'tard': 456, '👩': 457, 'end': 458, 'gov': 459, 'f': 460, 'hate': 461, 'traffic': 462, '😤': 463, 'fyi': 464, 'rape': 465, 'grope': 466, 'women': 467, 'privat': 468, 'part': 469, 'talk': 470, 'command': 471, 'chief': 472, '45': 473, 'louisarmstrongairport': 474, 'neworlean': 475, 'louisiana': 476, 'tinyplanet': 477, 'new': 478, 'orlean': 479, 'um': 480, 'fim': 481, 'de': 482, 'pipe': 483, 'pipelin': 484, 'luccabiot': 485, 'hawaii': 486, '🔜': 487, '😮': 488, 'dike': 489, 'tho': 490, 'awesom': 491, '😇': 492, '➰': 493, 'nigga': 494, 'tyler': 495, 'prolli': 496, 'hard': 497, 'flognaw': 498, 'anger': 499, 'blue': 500, 'raspberri': 501, 'enter': 502, 'alaska': 503, '😉': 504, 'youv': 505, 'touch': 506, 'exterior': 507, 'dibbl': 508, 'dabbl': 509, 'place': 510, 'superior': 511, 'pictur': 512, 'yesterday': 513, 'senior': 514, 'pic': 515, '😛': 516, 'excit': 517, 'drop': 518, 'next': 519, 'friday': 520, 'portland': 521, 'oregon': 522, 'repres': 523, 'edr': 524, 'v5': 525, 'session': 526, 'pltwsummit': 527, 'kc': 528, 'veri': 529, 'learn': 530, 'addit': 531, 'sensor': 532, 'purchas': 533, 'pltw': 534, 'cse': 535, 'sdvs': 536, 'enhanc': 537, 'creativ': 538, 'possibl': 539, 'student': 540, 'project': 541, 'ahead': 542, 'tear': 543, 'sure': 544, 'enough': 545, 'c': 546, 'huh': 547, 'hors': 548, 'tictac': 549, '🕓': 550, 'takin': 551, 'nap': 552, 'product': 553, '🤔': 554, 'prefer': 555, 'kapeesh': 556, 'spell': 557, 'drive': 558, 'point': 559, 'yeah': 560, 'hey': 561, '👏': 562, 'daughter': 563, 'yet': 564, '😞': 565, '300': 566, 'flex': 567, 'ok': 568, 'that': 569, 'ian': 570, 'univers': 571, 'studio': 572, 'nene': 573, 'wassup': 574, 'jack': 575, 'believ': 576, 'may': 577, 'snow': 578, 'tomorrow': 579, 'window': 580, 'open': 581, 'today': 582, 'dunbar': 583, 'west': 584, 'virginia': 585, 'gorgeous': 586, '🌿': 587, 'jhonni': 588, 'whitworth': 589, 'callmedanni': 590, 'lmao': 591, 'idk': 592, 'aight': 593, '3': 594, 'world': 595, 'pimento': 596, 'chees': 597, 'dad': 598, 'lol': 599, 'share': 600, 'lyft': 601, 'girl': 602, 'legit': 603, 'sing': 604, 'car': 605, 'bama': 606, 'dayum': 607, 'latti': 608, 'seem': 609, 'hatr': 610, 'far': 611, 'abroad': 612, 'us': 613, 'panocha': 614, 'spanish': 615, 'pussi': 616, 'serious': 617, 'flight': 618, 'mani': 619, 'stop': 620, 'delta': 621, 'yoooo': 622, 'track': 623, 'histori': 624, 'draft': 625, 'jet': 626, 'fin': 627, 'haahahaha': 628, 'thank': 629, 'countri': 630, 'free': 631, 'brave': 632, 'star': 633, 'clock': 634, 'career': 635, 'view': 636, 'titl': 637, 'lead': 638, 'teller': 639, 'full': 640, 'la': 641, 'jolla': 642, 'villag': 643, 'squar': 644, '40': 645, 'sandiego': 646, 'ca': 647, 'bank': 648, 'pocahonta': 649, 'search': 650, 'great': 651, 'check': 652, 'pho': 653, 'wheel': 654, 'mon': 655, 'nov': 656, '11': 657, '5p': 658, '8p': 659, 'camden': 660, 'dull': 661, 'apt': 662, '2320': 663, 'station': 664, 'blvd': 665, 'herndon': 666, 'fyndgreatfood': 667, 'goodfynd': 668, 'phowheel': 669, '📅': 670, '📍': 671, '🕔': 672, 'suck': 673, 'xo': 674, 'also': 675, 'edit': 676, 'internet': 677, '😕': 678, 'latest': 679, 'mtlaureltownship': 680, 'nj': 681, 'engin': 682, 'opportun': 683, 'click': 684, 'link': 685, 'bio': 686, 'appli': 687, 'aegi': 688, 'bae': 689, 'system': 690, 'forgiv': 691, 'way': 692, 'selfish': 693, 'coolin': 694, 'wig': 695, 'hope': 696, 'meet': 697, 'swear': 698, 'airhead': 699, 'cold': 700, 'outsid': 701, 'disrespect': 702, 'gotta': 703, 'prioriti': 704, 'insensit': 705, 'plain': 706, 'wrong': 707, 'impeachandremov': 708, 'break': 709, 'mike': 710, 'cher': 711, 'sister': 712, 'mari': 713, 'dong': 714, '🕛': 715, 'fight': 716, 'anoth': 717, 'clear': 718, 'heavi': 719, 'period': 720, 'crazi': 721, 'pick': 722, 'lebronlak': 723, 'lugar': 724, 'mejor': 725, 'que': 726, 'est': 727, 'impo': 728, '1': 729, 'fan': 730, 'dfw': 731, '15': 732, '😳': 733, 'gatsbi': 734, 'wait': 735, 'everyon': 736, 'fit': 737, '🍾': 738, '🖤': 739, '🥂': 740, '✨': 741, 'll': 742, 'baddest': 743, 'bish': 744, 'warmington': 745, 'unrepent': 746, 'apolog': 747, 'long': 748, 'adversari': 749, 'mannnn': 750, 'hair': 751, 'green': 752, 'umma': 753, 'sparki': 754, 'miss': 755, 'monday': 756, 'tuesday': 757, 'whatev': 758, 'wednesday': 759, 'thursday': 760, 'saturday': 761, 'sunday': 762, 'turkey': 763, 'herd': 764, 'farmer': 765, 'east': 766, 'coffe': 767, 'beta': 768, 'version': 769, 'kink': 770, 'flaw': 771, 'best': 772, 'grate': 773, 'around': 774, 'thrive': 775, 'sustain': 776, 'w': 777, 'bucket': 778, 'communiti': 779, 'mentalhealth': 780, 'therapi': 781, 'lemacaronfrenchpastri': 782, 'fortlauderdal': 783, 'thegalleria': 784, 'ftlauderdal': 785, 'foodi': 786, 'french': 787, 'pastri': 788, 'mcm': 789, 'southflorida': 790, 'florida': 791, 'broward': 792, 'ftl': 793, 'ftlbeach': 794, 'fortlauderdalebeach': 795, 'beach': 796, 'novemb': 797, 'galleriamal': 798, 'dessert': 799, 'slow': 800, 'start': 801, '4': 802, 'whole': 803, 'era': 804, 'yes': 805, 'big': 806, 'mad': 807, 'twin': 808, 'flame': 809, 'doesn': 810, 'haven': 811, 'find': 812, 'social': 813, 'equiti': 814, 'issu': 815, 'associ': 816, 'substat': 817, 'aesthet': 818, 'manag': 819, 'sexiest': 820, 'energi': 821, 'topic': 822, 'concern': 823, 'entir': 824, 'hurt': 825, 'sweat': 826, 'absenc': 827, 'mris': 828, 'begin': 829, 'semest': 830, 'class': 831, 'fever': 832, '😢': 833, 'tf': 834, 'standard': 835, 'distribut': 836, 'school': 837, 'music': 838, 'stay': 839, 'gourd': 840, 'count': 841, 'better': 842, 'smoke': 843, 'smell': 844, 'disney': 845, '1x': 846, 'poop': 847, 'bird': 848, '🤡': 849, '60': 850, 'noth': 851, 'johnni': 852, 'downstair': 853, 'gope': 854, 'month': 855, 'celebr': 856, 'gothamseason4': 857, 'savegotham': 858, 'campaign': 859, 'castmat': 860, 'devot': 861, 'reunion': 862, 'will': 863, 'mr': 864, 'ben': 865, 'mckenzi': 866, 'tv': 867, '😃': 868, '😄': 869, 'busi': 870, 'someon': 871, 'yo': 872, 'd': 873, 'talkin': 874, 'belli': 875, '💜': 876, 'decemb': 877, 'guam': 878, 'north': 879, 'mariana': 880, 'tini': 881, 'fling': 882, 'territori': 883, 'rn': 884, 'woman': 885, 'interest': 886, 'tall': 887, 'gf': 888, 'protect': 889, 'bar': 890, 'polit': 891, 'beer': 892, '🔘': 893, '⚪': 894, 'shave': 895, '😔': 896, 'wanna': 897, 'librari': 898, 'appoint': 899, 'insulin': 900, 'caus': 901, 'shoot': 902, 'sportsbook': 903, 'town': 904, 'retail': 905, 'indiana': 906, 'absolut': 907, 'conveni': 908, 'louisvill': 909, 'cincinnati': 910, 'indianapoli': 911, 'sportsbet': 912, '💷': 913, 'sonofman': 914, 'dafuq': 915, 'megathread': 916, 'piec': 917, 'chess': 918, '2': 919, 'exam': 920, 'illeg': 921, 'olympia': 922, 'nut': 923, 'mute': 924, 'stream': 925, 'million': 926, 'dollar': 927, 'steal': 928, 'foundat': 929, 'suppos': 930, 'vet': 931, 'chariti': 932, 'friend': 933, 'honor': 934, 'pretti': 935, 'classi': 936, 'super': 937, 'cute': 938, 'tee': 939, 'shirt': 940, 'becom': 941, 'inspir': 942, 'bulletin': 943, 'board': 944, 'buffaloplaid': 945, 'winterisher': 946, 'bulletinboard': 947, 'snowflak': 948, '🌲': 949, '🙌': 950, '⛄': 951, 'slay': 952, 'phobia': 953, '2016': 954, 'struggl': 955, 'other': 956, 'alon': 957, 'proud': 958, 'utk': 959, 'utkfirstgen': 960, 'bereal': 961, 'transform': 962, 'anxieti': 963, '150': 964, 'das': 965, 'kingg': 966, '🤝': 967, '49er': 968, 'activ': 969, 'te': 970, 'garrett': 971, 'celek': 972, 'pup': 973, 'releas': 974, 'cb': 975, 'donta': 976, 'johnson': 977, 'hundr': 978, 'thousand': 979, 'mouth': 980, 'happenin': 981, 'fake': 982, 'teeth': 983, 'embarrassin': 984, 'later': 985, 'veteransday': 986, 'lee': 987, 'greenwood': 988, 'bless': 989, 'usa': 990, 'jimmi': 991, 'carter': 992, 'bull': 993, 'level': 994, 'iran': 995, 'embassi': 996, 'personnel': 997, 'hostag': 998, '2015': 999, 'nys': 1000, 'thruway': 1001, 'must': 1002, 'model': 1003, '🤗': 1004, 'forth': 1005, 'lot': 1006, 'medic': 1007, 'content': 1008, 'scari': 1009, 'someth': 1010, 'sorta': 1011, 'neopet': 1012, 'unfollow': 1013, 'fee': 1014, 'artist': 1015, 'brother': 1016, 'buy': 1017, 'mine': 1018, 'updat': 1019, 'tommi': 1020, 'cutest': 1021, 'starbuck': 1022, 'alli': 1023, 'wi': 1024, 'castaway': 1025, 'lunchbox': 1026, '17th': 1027, 'catch': 1028, 'ticket': 1029, 'r': 1030, 'u': 1031, 'tour': 1032, 'okay': 1033, 'cool': 1034, 'experi': 1035, 'onesi': 1036, 'soon': 1037, 'rashaan': 1038, 'salaam': 1039, 'eligibilti': 1040, 'leav': 1041, 'afraid': 1042, 'whose': 1043, 'witchuuu': 1044, 'bark': 1045, 'honesti': 1046, 'emot': 1047, 'physic': 1048, 'exhaust': 1049, 'trash': 1050, 'diego': 1051, 'serv': 1052, 'verteransday': 1053, 'rememberanceday': 1054, 'lestweforget': 1055, 'toddler': 1056, 'everyth': 1057, '3x': 1058, 'red': 1059, 'cardigan': 1060, 'redfor': 1061, 'cri': 1062, 'antho': 1063, 'rain': 1064, 'lamar': 1065, 'gonna': 1066, 'player': 1067, 'could': 1068, 'consid': 1069, 'threat': 1070, 'bus': 1071, 'grabag': 1072, 'truck': 1073, '🙄': 1074, 'laundri': 1075, 'comfort': 1076, 'bed': 1077, 'sheet': 1078, 'towel': 1079, 'wash': 1080, 'room': 1081, 'dust': 1082, 'clean': 1083, 'nirvana': 1084, 'scent': 1085, 'incens': 1086, 'burn': 1087, '✅': 1088, 'middl': 1089, 'eastern': 1090, 'mercuri': 1091, 'transit': 1092, 'sun': 1093, 'gracia': 1094, '👌': 1095, 'saintpet': 1096, 'snowday': 1097, 'subaru': 1098, 'stillfal': 1099, 'stlwx': 1100, '🍁': 1101, 'toon': 1102, 'moral': 1103, 'opaqu': 1104, 'plaid': 1105, 'varieti': 1106, 'weird': 1107, 'hasn': 1108, 'deliv': 1109, 'imo': 1110, 'air': 1111, 'down': 1112, 'claud': 1113, 'amari': 1114, 'alexi': 1115, 'jason': 1116, 'ass': 1117, 'weston': 1118, 'chase': 1119, 'l': 1120, 'bc': 1121, 'correct': 1122, '😊': 1123, 'scam': 1124, 'pearl': 1125, 'thousandoak': 1126, 'cleric': 1127, 'offic': 1128, 'clerk': 1129, 'officeteam': 1130, 'tire': 1131, 'sit': 1132, 'happen': 1133, 'act': 1134, 'racism': 1135, '🤬': 1136, 'fr': 1137, 'quema': 1138, 'cuh': 1139, 'plant': 1140, 'pollut': 1141, 'saidnooneev': 1142, 'kkkk': 1143, 'li': 1144, 'verdad': 1145, 'warm': 1146, 'snowi': 1147, 'blondepumpkinspicelatt': 1148, 'blondecaramelmacchiato': 1149, '👯': 1150, '\\u200d': 1151, '♀': 1152, '️': 1153, '☕': 1154, 'hous': 1155, 'paranoid': 1156, 'bacc': 1157, 'pacc': 1158, 'b': 1159, 'abl': 1160, 'togeth': 1161, 'vicious': 1162, 'scandal': 1163, 'dicc': 1164, 'ford': 1165, 'pardon': 1166, 'includ': 1167, '🙇': 1168, 'hungri': 1169, 'kany': 1170, 'trumpstolefromveteran': 1171, 'ell': 1172, 'road': 1173, 'condit': 1174, 'quick': 1175, 'downhil': 1176, 'inwx': 1177, 'video': 1178, 'atlanta': 1179, 'georgia': 1180, 'resist': 1181, 'urg': 1182, 'upgrad': 1183, 'iphone11': 1184, 'pro': 1185, 'max': 1186, '😩': 1187, '🤦': 1188, 'latergram': 1189, 'lakepowel': 1190, 'instagood': 1191, 'amaz': 1192, 'redrock': 1193, 'wanderlust': 1194, 'naturephotographi': 1195, 'arizona': 1196, 'desert': 1197, 'outdoor': 1198, 'holiday': 1199, 'weekend': 1200, 'wave': 1201, 'az': 1202, 'picoftheday': 1203, 'photooftheday': 1204, 'instafollow': 1205, 'lo': 1206, 'poco': 1207, 'o': 1208, 'han': 1209, 'sido': 1210, 'expresion': 1211, 'total': 1212, 'xenofobia': 1213, 'truelov': 1214, 'trueloveexist': 1215, 'magic': 1216, 'smith': 1217, 'ferri': 1218, 'pennsylvania': 1219, 'boot': 1220, 'final': 1221, 'finish': 1222, 'carv': 1223, 'mug': 1224, 'madeatsandburg': 1225, '86': 1226, 'kacey': 1227, 'musgrav': 1228, 'x98': 1229, 'relat': 1230, '❗': 1231, 'icon': 1232, '🙏': 1233, 'coloni': 1234, 'ny': 1235, 'restaurantmanag': 1236, 'katelynn': 1237, 'katee': 1238, 'babe': 1239, '🦋': 1240, 'hooper': 1241, 'analyst': 1242, 'outlin': 1243, 'book': 1244, 'flood': 1245, '👀': 1246, 'lowkey': 1247, 'tuvalu': 1248, 'elimin': 1249, 'outreach': 1250, 'event': 1251, 'jill': 1252, 'build': 1253, 'aiy': 1254, 'voic': 1255, 'kit': 1256, 'ai': 1257, 'googl': 1258, 'provid': 1259, 'omgrobot': 1260, 'stem': 1261, 'fine': 1262, 'tl': 1263, 'problem': 1264, 'lt': 1265, 'bs': 1266, 'ceede': 1267, 'lamb': 1268, 'steam': 1269, 'sooner': 1270, 'billi': 1271, 'ultim': 1272, 'complet': 1273, 'chao': 1274, 'push': 1275, 'eight': 1276, 'team': 1277, 'uhm': 1278, '💪': 1279, 'hah': 1280, 'minut': 1281, 'janki': 1282, 'photoshop': 1283, 'specialti': 1284, 'read': 1285, 'pediatr': 1286, 'emerg': 1287, 'medicin': 1288, 'maryland': 1289, 'emergencymedicin': 1290, 'baltimor': 1291, 'md': 1292, 'jojo': 1293, 'rabbit': 1294, 'famili': 1295, 'movi': 1296, 'dripdrop': 1297, 'stfu': 1298, 'hike': 1299, 'angel': 1300, '💗': 1301, 'e': 1302, 'kharma': 1303, 'selfless': 1304, 'pay': 1305, 'ceas': 1306, 'exist': 1307, 'join': 1308, 'guckenheim': 1309, 'cook': 1310, 'cleveland': 1311, 'taco': 1312, 'tattoo': 1313, 'appt': 1314, 'asap': 1315, '😪': 1316, 'move': 1317, 'dr': 1318, 'juli': 1319, 'busch': 1320, 'vega': 1321, 'hakkasan': 1322, 'mgmgrand': 1323, 'plot': 1324, 'low': 1325, 'scheme': 1326, 'furthest': 1327, 'close': 1328, 'rush': 1329, 'adrenalin': 1330, 'raven': 1331, 'hydrat': 1332, 'preach': 1333, 'premis': 1334, 'reminisc': 1335, 'dream': 1336, 'clown': 1337, 'bridg': 1338, 'overpass': 1339, 'slick': 1340, 'hill': 1341, 'longer': 1342, 'report': 1343, 'duti': 1344, 'aboard': 1345, 'space': 1346, 'ship': 1347, 'littl': 1348, 'ill': 1349, 'last': 1350, 'due': 1351, 'soup': 1352, 'accept': 1353, 'nurs': 1354, 'futurern': 1355, '💉': 1356, '🚑': 1357, 'privileg': 1358, 'apart': 1359, 'yal': 1360, 'special': 1361, 'keep': 1362, 'lil': 1363, 'bro': 1364, '🐐': 1365, '💯': 1366, 'salad': 1367, 'nicoooooooooooooooooooo': 1368, 'goooooooooooooooooo': 1369, 'coast': 1370, 'elit': 1371, 'armour': 1372, 'apryl': 1373, 'fizz': 1374, 'biggest': 1375, '2019': 1376, 'miedo': 1377, 'hijo': 1378, 'tu': 1379, 'puta': 1380, 'madr': 1381, 'huyendo': 1382, 'como': 1383, 'rata': 1384, 'cloaca': 1385, 'todo': 1386, 'usted': 1387, 'paran': 1388, 'igual': 1389, 'es': 1390, 'para': 1391, 'pronto': 1392, 'ortega': 1393, 'amiga': 1394, 'china': 1395, 'castro': 1396, 'con': 1397, 'su': 1398, 'repuesto': 1399, 'dedo': 1400, 'beastmen': 1401, 'warhamm': 1402, 'underworld': 1403, 'beastgrav': 1404, 'jordan': 1405, 'maga': 1406, 'kag': 1407, 'impeach': 1408, 'ton': 1409, '🕑': 1410, 'spoil': 1411, 'bday': 1412, 'episod': 1413, 'knightfal': 1414, 'sir': 1415, 'talus': 1416, 'juici': 1417, 'joy': 1418, 'connect': 1419, 'old': 1420, 'medal': 1421, 'recipi': 1422, 'sal': 1423, 'giunta': 1424, 'walmart': 1425, 'wonder': 1426, 'leadership': 1427, 'perform': 1428, '14th': 1429, 'carpet': 1430, '6': 1431, '30': 1432, 'pm': 1433, 'door': 1434, '8': 1435, 'twista': 1436, 'zenzen': 1437, 'jessicazenzen': 1438, 'bythebay': 1439, 'yuck': 1440, 'makeadiffer': 1441, 'volunt': 1442, 'greater': 1443, 'rochest': 1444, 'volnat': 1445, '102': 1446, '000': 1447, '🍊': 1448, 'oomf': 1449, 'press': 1450, 'respond': 1451, 'uh': 1452, 'wrap': 1453, 'film': 1454, 'imdb': 1455, 'negoti': 1456, 'confirm': 1457, 'actorslif': 1458, 'ma': 1459, 'zoe': 1460, 'scratch': 1461, 'kick': 1462, 'smack': 1463, 'els': 1464, 'child': 1465, 'inform': 1466, 'dada': 1467, 'punch': 1468, 'deni': 1469, 'denial': 1470, 'widdit': 1471, 'letsgocol': 1472, '80': 1473, 'jajajaja': 1474, 'deja': 1475, 'estaba': 1476, 'delicioso': 1477, 'locat': 1478, 'northcharleston': 1479, 'goosecreek': 1480, 'feedthelowcountri': 1481, 'freefood': 1482, 'freepantri': 1483, 'creekris': 1484, 'foodinsecur': 1485, 'northcharlestonsc': 1486, 'charleston': 1487, 'carolina': 1488, 'outta': 1489, 'dumbass': 1490, 'fantast': 1491, 'tea': 1492, 'spend': 1493, 'mosdef': 1494, 'ghost': 1495, 'cacophoni': 1496, 'hup': 1497, 'watercolor': 1498, 'ink': 1499, 'pencil': 1500, '22': 1501, 'x30': 1502, 'white': 1503, '90': 1504, 'stoneheng': 1505, 'nanci': 1506, 'charak': 1507, 'markmak': 1508, 'draw': 1509, 'drawingonpap': 1510, 'chicagoartist': 1511, 'chicagoart': 1512, 'tucsonartist': 1513, 'tucsonart': 1514, 'reggaeton': 1515, 'throwback': 1516, 'mini': 1517, 'zumba': 1518, 'workout': 1519, '💃': 1520, 'lmfaoooo': 1521, 'ignor': 1522, 'law': 1523, 'hearsay': 1524, 'nor': 1525, 'rational': 1526, 'sis': 1527, 'ounc': 1528, 'attitud': 1529, 'af': 1530, 'clon': 1531, 'public': 1532, 'address': 1533, 'announc': 1534, 'ugli': 1535, 'cancel': 1536, 'delay': 1537, 'modifi': 1538, 'schedul': 1539, '💀': 1540, 'richardhinojo': 1541, 'gg': 1542, '💙': 1543, 'laugh': 1544, 'loud': 1545, 'near': 1546, 'portofpdx': 1547, 'bread': 1548, 'bruhhhh': 1549, 'pearlinnn': 1550, 'shebajazel': 1551, 'cee76': 1552, 'research': 1553, 'anim': 1554, 'zoo': 1555, 'gt': 1556, 'drag': 1557, 'onto': 1558, 'studi': 1559, 'unlock': 1560, 'enrich': 1561, 'innoc': 1562, 'thou': 1563, 'ck': 1564, '74': 1565, 'kawhiclipp': 1566, 'stupid': 1567, 'cunt': 1568, 'flyest': 1569, 'note': 1570, 'hand': 1571, 'ricki': 1572, 'bobbi': 1573, 'magan': 1574, 'thompson': 1575, 'awkwardlif': 1576, 'shakeandbak': 1577, 'term': 1578, 'lord': 1579, 'ssu': 1580, 'nostalgia': 1581, 'cartoon': 1582, 'fashion': 1583, 'corner': 1584, 'epic': 1585, 'seri': 1586, 'childhood': 1587, 'fun': 1588, 'sim': 1589, 'ssu23': 1590, 'ssu22': 1591, 'ssu21': 1592, 'ssu20': 1593, '🍄': 1594, '🍩': 1595, '🎉': 1596, '🐾': 1597, '👦': 1598, '👧': 1599, '👾': 1600, '🙈': 1601, 'omarion': 1602, 'album': 1603, '🔥': 1604, '7th': 1605, 'grade': 1606, 'poster': 1607, 'tradit': 1608, 'dish': 1609, 'display': 1610, 'unit': 1611, 'present': 1612, 'visual': 1613, 'refer': 1614, 'twitch': 1615, 'zelda': 1616, 'oot': 1617, 'languag': 1618, 'bare': 1619, 'hilari': 1620, 'nah': 1621, 'boomerang': 1622, 'shoulder': 1623, 'shoe': 1624, 'awsom': 1625, 'dat': 1626, 'prospect': 1627, '1st': 1628, 'winter': 1629, 'goblu': 1630, 'readi': 1631, 'away': 1632, 'wear': 1633, 'inch': 1634, '🤩': 1635, 'venu': 1636, 'shmenu': 1637, 'jk': 1638, 'rapid': 1639, 'wild': 1640, 'sound': 1641, 'heart': 1642, 'carenow': 1643, 'ehr': 1644, 'patientcar': 1645, 'republican': 1646, 'counterattack': 1647, 'via': 1648, 'skeeter': 1649, 'investarg': 1650, 'exampl': 1651, 'trump': 1652, 'schiff': 1653, 'wit': 1654, 'testimoni': 1655, 'boyie': 1656, 'restaur': 1657, 'cafe': 1658, 'panera': 1659, 'parttim': 1660, 'charlottesvill': 1661, 'va': 1662, 'snap': 1663, 'torch': 1664, 'mayb': 1665, 'concuss': 1666, 'piper': 1667, 'critic': 1668, 'question': 1669, 'reconsid': 1670, 'participatorydesign': 1671, 'method': 1672, 'consider': 1673, 'race': 1674, 'margin': 1675, 'import': 1676, 'cscw2019': 1677, 'indic': 1678, 'lsu': 1679, 'viator': 1680, 'mcc25': 1681, 'unblock': 1682, 'beat': 1683, 'superbowl': 1684, 'vanni': 1685, 'pwettyyi': 1686, 'yep': 1687, 'atl': 1688, 'ago': 1689, 'pressur': 1690, 'amen': 1691, 'alcohol': 1692, 'weed': 1693, 'cheer': 1694, 'random': 1695, 'zip': 1696, 'jacket': 1697, 'afro': 1698, '140': 1699, 'respect': 1700, 'statement': 1701, 'wcetyinecehaw': 1702, 'ridicul': 1703, 'comment': 1704, 'imperi': 1705, 'corpor': 1706, 'resourc': 1707, 'strip': 1708, 'sign': 1709, 'care': 1710, 'colleg': 1711, 'blame': 1712, 'latter': 1713, 'vote': 1714, 'conserv': 1715, 'centrist': 1716, 'refus': 1717, 'cut': 1718, 'budget': 1719, 'perpetu': 1720, 'war': 1721, 'veteransday2019': 1722, 'vetransday2019': 1723, 'earn': 1724, '0': 1725, 'mph': 1726, 'baromet': 1727, '029': 1728, 'fall': 1729, 'slowli': 1730, 'temperatur': 1731, '44': 1732, '7': 1733, '00in': 1734, 'humid': 1735, '79': 1736, 'highway': 1737, '42': 1738, 'upon': 1739, 'ban': 1740, 'format': 1741, 'oko': 1742, '365': 1743, 'tight': 1744, 'asf': 1745, 'sponsor': 1746, 'pop': 1747, 'tart': 1748, '🚫': 1749, '🧢': 1750, 'reveal': 1751, 'distract': 1752, 'rage': 1753, 'tabl': 1754, 'microsoft': 1755, 'prayer': 1756, 'christma': 1757, 'gift': 1758, 'congratul': 1759, 'milo': 1760, '10': 1761, '27': 1762, 'brooklyn': 1763, 'tim': 1764, 'mobi': 1765, 'classic': 1766, 'nose': 1767, 'season': 1768, 'lmaooo': 1769, 'receiv': 1770, 'posit': 1771, 'high': 1772, 'anyway': 1773, 'kenyan': 1774, 'drake': 1775, 'edmond': 1776, 'ouch': 1777, 'funni': 1778, 'gif': 1779, 'meme': 1780, 'son': 1781, 'smile': 1782, 'current': 1783, 'american': 1784, 'trippin': 1785, 'lewis67': 1786, 'ahhh': 1787, 'timelin': 1788, 'delorean': 1789, 'marti': 1790, 'doc': 1791, 'bite': 1792, 'differ': 1793, 'plz': 1794, 'fix': 1795, 'worsttimelineev': 1796, 'ode': 1797, 'contradict': 1798, 'cast': 1799, 'heisman': 1800, 'ballot': 1801, 'joeburrow': 1802, 'deserv': 1803, 'hell': 1804, 'backroad': 1805, 'rez': 1806, 'appar': 1807, 'patient': 1808, 'stand': 1809, 'ovat': 1810, 'abov': 1811, 'beyond': 1812, 'elaps': 1813, 'forc': 1814, 'shlep': 1815, 'bk': 1816, 'e74th': 1817, 'scoundrel': 1818, 'crimin': 1819, 'avoid': 1820, 'step': 1821, 'fat': 1822, 'burger': 1823, 'bust': 1824, 'ball': 1825, 'besid': 1826, 'closet': 1827, 'gotsteez': 1828, 'dialton': 1829, 'preview': 1830, 'limit': 1831, 'certain': 1832, 'pathet': 1833, '🌼': 1834, '9': 1835, 'magnitud': 1836, 'earthquak': 1837, '37': 1838, 'km': 1839, 'covelo': 1840, 'state': 1841, '00': 1842, 'ypu': 1843, 'stoppp': 1844, 'pray': 1845, 'freez': 1846, 'second': 1847, 'sens': 1848, 'humor': 1849, 'imagin': 1850, 'john': 1851, 'clees': 1852, 'idl': 1853, 'donald': 1854, 'attribut': 1855, 'fox': 1856, 'news': 1857, 'eddi': 1858, 'floor': 1859, 'inn': 1860, 'usual': 1861, 'nation': 1862, 'confus': 1863, 'michigan': 1864, 'ethnic': 1865, 'puerto': 1866, 'rican': 1867, 'etc': 1868, 'bear': 1869, 'bold': 1870, '💋': 1871, 'cloth': 1872, 'formal': 1873, 'increas': 1874, 'decreas': 1875, 'promot': 1876, 'tough': 1877, 'sort': 1878, 'qb': 1879, 'pls': 1880, 'keyston': 1881, 'restart': 1882, 'dakota': 1883, 'leak': 1884, 'artclub': 1885, 'ornament': 1886, 'tree': 1887, 'mountain': 1888, 'common': 1889, '19': 1890, '21': 1891, '😓': 1892, 'salem': 1893, 'pooh': 1894, 'spill': 1895, 'surpris': 1896, 'instead': 1897, 'dumb': 1898, 'omg': 1899, 'young': 1900, 'wiz': 1901, 'suprem': 1902, 'court': 1903, 'least': 1904, 'milk': 1905, 'lunch': 1906, 'order': 1907, 'attent': 1908, 'proper': 1909, 'plow': 1910, 'ese': 1911, '29': 1912, '98': 1913, 'enjoy': 1914, 'teen': 1915, 'succeed': 1916, 'adulthood': 1917, 'ador': 1918, 'soft': 1919, 'rachel': 1920, 'disappoint': 1921, 'insid': 1922, 'lushbathbomb': 1923, 'lushcosmet': 1924, 'chicago': 1925, 'illinoi': 1926, '12': 1927, 'toler': 1928, '2020': 1929, 'pet': 1930, 'fish': 1931, 'goodby': 1932, 'bye': 1933, 'soda': 1934, 'damnnnn': 1935, 'cedardal': 1936, 'haverhil': 1937, 'lose': 1938, 'plus': 1939, 'ami': 1940, 'lasagna': 1941, 'sall': 1942, 'ek': 1943, 'gholami': 1944, 'exact': 1945, 'recogn': 1946, 'power': 1947, 'dynam': 1948, 'yall': 1949, 'clitor': 1950, 'stone': 1951, 'kidney': 1952, 'gyno': 1953, 'dont': 1954, '😖': 1955, 'wow': 1956, 'listen': 1957, 'drain': 1958, '🎶': 1959, 'hunt': 1960, 'anybodi': 1961, 'compadr': 1962, 'crothal': 1963, 'healthcar': 1964, 'houma': 1965, 'facilitiesmgmt': 1966, 'culinari': 1967, 'execut': 1968, 'chef': 1969, 'lifework': 1970, 'group': 1971, 'aramark': 1972, 'ridgefield': 1973, 'park': 1974, 'lib': 1975, 'bitch': 1976, 'manchin': 1977, 'regular': 1978, 'basi': 1979, 'brand': 1980, 'york': 1981, 'tweet': 1982, 'lyric': 1983, 'kelli': 1984, 'kellyjob': 1985, 'kellyservic': 1986, 'bridgeport': 1987, 'ct': 1988, 'securityguard': 1989, 'donni': 1990, 'testifi': 1991, 'pleasestoplyingtousyougiantasshat': 1992, 'pun': 1993, 'intend': 1994, 'shitti': 1995, 'rest': 1996, 'millennium': 1997, 'askingforafriend': 1998, 'thread': 1999, 'alexus': 2000, 'healthi': 2001, 'butterfli': 2002, 'teach': 2003, 'fli': 2004, 'ukrain': 2005, 'foreign': 2006, 'polici': 2007, 'joe': 2008, 'biden': 2009, 'coordin': 2010, 'gain': 2011, 'continu': 2012, 'conspiraci': 2013, 'theori': 2014, 'land': 2015, 'quest': 2016, 'straight': 2017, 'appreci': 2018, '35': 2019, 'nonsens': 2020, 'slogan': 2021, 'dread': 2022, 'crappi': 2023, 'logo': 2024, 'sck': 2025, 'dixk': 2026, 'lip': 2027, 'sticc': 2028, 'earli': 2029, 'noon': 2030, 'newscast': 2031, 'unfortun': 2032, 'less': 2033, 'shouldn': 2034, 'past': 2035, 'passtheballtoluk': 2036, 'offf': 2037, 'eye': 2038, 'behind': 2039, 'brag': 2040, 'hr': 2041, 'robbin': 2042, 'seminar': 2043, 'medicina': 2044, 'ss': 2045, 'invest': 2046, 'financi': 2047, 'firm': 2048, 'award': 2049, 'windsor': 2050, 'overwhelm': 2051, 'grief': 2052, '💔': 2053, 'alodominguez': 2054, 'dude': 2055, 'whaaattt': 2056, 'sell': 2057, 'onlin': 2058, '50': 2059, '200': 2060, 'practic': 2061, 'joke': 2062, 'fuckin': 2063, 'anni': 2064, 'fairchildafb': 2065, 'wa': 2066, 'mobil': 2067, 'alert': 2068, 'usaf': 2069, 'fairchild': 2070, 'morgan': 2071, 'center': 2072, '2012': 2073, 'whew': 2074, 'somebodi': 2075, 'street': 2076, 'wet': 2077, 'zavag': 2078, 'frank': 2079, 'ocean': 2080, 'cock': 2081, 'sucker': 2082, 'relax': 2083, 'kind': 2084, 'shadowkeep': 2085, 'pc': 2086, 'main': 2087, 'xbox': 2088, 'cross': 2089, 'save': 2090, 'dedic': 2091, 'remind': 2092, 'human': 2093, 'societi': 2094, 'alameda': 2095, 'adopt': 2096, 'faa': 2097, 'syden': 2098, 'elev': 2099, 'rancho': 2100, 'santa': 2101, 'fe': 2102, 'childer': 2103, 'einna': 2104, 'boss': 2105, 'top': 2106, 'epitom': 2107, 'liberaltard': 2108, 'ppl': 2109, 'slipper': 2110, 'precious': 2111, 'folk': 2112, 'gun': 2113, 'abolishthest': 2114, 'bringthetroopshom': 2115, 'abolishthecia': 2116, 'abolishthealphabetcrew': 2117, 'camp': 2118, 'flog': 2119, 'gnaw': 2120, 'yearsss': 2121, 'realiti': 2122, '😬': 2123, 'fraud': 2124, 'diss': 2125, 'nic': 2126, 'cking': 2127, 'dak': 2128, 'throw': 2129, 'terranc': 2130, 'william': 2131, 'deontay': 2132, 'dez': 2133, 'bryant': 2134, 'aren': 2135, 'leagu': 2136, 'roti': 2137, 'excus': 2138, 'comin': 2139, 'welcom': 2140, '🙂': 2141, 'elm': 2142, 'huge': 2143, 'kindl': 2144, 'easi': 2145, 'process': 2146, 'worth': 2147, 'acknowledg': 2148, 'knicolewrit': 2149, 'takecareofyourself': 2150, 'thankyouforyourservic': 2151, 'idea': 2152, 'neo': 2153, 'iceee': 2154, '🤒': 2155, '🤙': 2156, '🦍': 2157, 'nate': 2158, '🏀': 2159, 'molli': 2160, 'justin': 2161, 'bieber': 2162, 'radio': 2163, 'xyla': 2164, 'betta': 2165, 'frienddd': 2166, 'dk': 2167, 'girllll': 2168, 'swipe': 2169, 'notif': 2170, 'conduct': 2171, 'symphoni': 2172, 'upstair': 2173, 'neighbor': 2174, 'aspir': 2175, 'rapper': 2176, 'ddritter': 2177, 'cover': 2178, 'emmaus': 2179, 'hs': 2180, 'andrew': 2181, 'peek': 2182, 'wasn': 2183, 'prapavessi': 2184, 'lineup': 2185, 'carri': 2186, 'binkley': 2187, 'dman': 2188, 'feder': 2189, 'judg': 2190, 'dismiss': 2191, 'lawsuit': 2192, 'attempt': 2193, 'block': 2194, 'access': 2195, 'tax': 2196, 'record': 2197, 'djt': 2198, 'reclaimidaho': 2199, 'indivisibleid': 2200, 'postcardstovot': 2201, 'iddem': 2202, 'idpol': 2203, 'idleg': 2204, '💥': 2205, 'iet': 2206, 'parallel': 2207, 'pizza': 2208, 'butthurt': 2209, 'rocket': 2210, 'radar': 2211, 'item': 2212, 'shop': 2213, 'bevin': 2214, 'kentucki': 2215, 'pass': 2216, 'cc': 2217, 'doin': 2218, 'dinner': 2219, '5pm': 2220, 'weekday': 2221, 'armistic': 2222, 'troop': 2223, 'aint': 2224, 'hittin': 2225, 'nothin': 2226, 'fenc': 2227, 'bravo': 2228, 'homeless': 2229, '💕': 2230, 'mania': 2231, 'although': 2232, 'crippl': 2233, 'depress': 2234, 'wayn': 2235, 'bsgstblender': 2236, '969ed48c': 2237, 'c6cd': 2238, '4714': 2239, 'a015': 2240, '6651b83bf1ac': 2241, 'onthecusp': 2242, 'mmhm': 2243, 'shut': 2244, 'nerd': 2245, 'prob': 2246, 'sloss': 2247, 'tap': 2248, 'attend': 2249, 'longhorn': 2250, 'reserv': 2251, 'banquet': 2252, 'mrs': 2253, 'buehler': 2254, 'email': 2255, 'amybuehl': 2256, 'net': 2257, 'text': 2258, '314': 2259, '520': 2260, '2029': 2261, 'dice': 2262, 'roll': 2263, 'mgmt': 2264, 'simpli': 2265, 'definit': 2266, 'insan': 2267, 'ruin': 2268, 'era8': 2269, 'ps4': 2270, 'x': 2271, 'affirm': 2272, 'prepar': 2273, 'manifest': 2274, 'thought': 2275, 'thepresremoshow': 2276, 'cours': 2277, 'tune': 2278, 'freec': 2279, 'control': 2280, 'loss': 2281, 'hoshi': 2282, 'rise': 2283, 'petal': 2284, 'nori': 2285, '🌟': 2286, 'youth': 2287, 'outback': 2288, 'throughout': 2289, 'nyc': 2290, 'naiv': 2291, 'southern': 2292, 'worri': 2293, 'prove': 2294, 'vice': 2295, 'versa': 2296, 'advisori': 2297, 'clearer': 2298, 'comprehens': 2299, 'depend': 2300, 'mi': 2301, 'si': 2302, 'sue': 2303, 'pero': 2304, 'el': 2305, 'huevo': 2306, 'se': 2307, 'queda': 2308, 'parao': 2309, 'important': 2310, 'campus': 2311, 'abuelita': 2312, 'slap': 2313, 'gosh': 2314, 'whenev': 2315, 'skip': 2316, 'motiv': 2317, '👋': 2318, 'showin': 2319, '🦅': 2320, 'mission': 2321, 'orang': 2322, 'crate': 2323, 'label': 2324, 'placentia': 2325, 'orchard': 2326, 'compani': 2327, 'copyright': 2328, 'bower': 2329, 'gordon': 2330, 'mcclelland': 2331, 'popular': 2332, 'zone': 2333, 'train': 2334, 'articl': 2335, 'rivalri': 2336, 'pump': 2337, 'revivalri': 2338, 'waco': 2339, 'sweet': 2340, 'plantain': 2341, 'duck': 2342, 'latin': 2343, 'twist': 2344, 'marin': 2345, 'grill': 2346, 'flank': 2347, 'steak': 2348, 'roast': 2349, '180': 2350, 'degre': 2351, 'butteri': 2352, 'malanga': 2353, 'mash': 2354, 'bacon': 2355, 'mojo': 2356, 'haram': 2357, 'moot': 2358, 'charact': 2359, 'basic': 2360, 'age': 2361, 'lituat': 2362, 'situat': 2363, 'origin': 2364, 'id': 2365, 'channel': 2366, 'either': 2367, 'kill': 2368, 'hold': 2369, 'butilovetruecrimeshow': 2370, 'membermonday': 2371, 'kidseum': 2372, 'workshop': 2373, '16': 2374, 'exhibit': 2375, 'bounti': 2376, 'design': 2377, 'retro': 2378, 'style': 2379, 'paint': 2380, 'perk': 2381, '🎨': 2382, 'everyday': 2383, 'dirt': 2384, 'rug': 2385, 'bunni': 2386, 'bigger': 2387, 'surgeri': 2388, 'prior': 2389, '1200': 2390, 'deposit': 2391, 'friendship': 2392, 'especi': 2393, 'recreat': 2394, 'mainbeach': 2395, 'easthampton': 2396, 'sunset': 2397, 'flag': 2398, 'hampton': 2399, 'rather': 2400, 'rock': 2401, 'mfs': 2402, 'defend': 2403, 'bullshit': 2404, 'doctor': 2405, 'transcript': 2406, 'everytim': 2407, 'peda': 2408, 'endang': 2409, 'wake': 2410, 'hmmm': 2411, 'aaliyahlena': 2412, 'caption': 2413, 'pok': 2414, 'front': 2415, 'mel': 2416, 'launch': 2417, 'mcu': 2418, 'catalogu': 2419, 'advertis': 2420, 'dissapoint': 2421, 'retweep': 2422, 'goat': 2423, 'send': 2424, 'evict': 2425, 'ha': 2426, '😀': 2427, '153': 2428, 'yard': 2429, 'niner': 2430, 'offens': 2431, 'pure': 2432, 'luck': 2433, 'clue': 2434, '20': 2435, 'refresh': 2436, 'graduat': 2437, 'asada': 2438, 'fri': 2439, 'self': 2440, 'decid': 2441, 'whether': 2442, 'swelter': 2443, 'none': 2444, 'silhouett': 2445, 'sneaker': 2446, 'hardcor': 2447, 'laptop': 2448, 'speaker': 2449, 'obscur': 2450, 'minor': 2451, 'roommat': 2452, 'baaaaaand': 2453, 'thatswhatsup': 2454, 'vil': 2455, 'ou': 2456, 'pa': 2457, 'bon': 2458, 'non': 2459, 'aw': 2460, '76': 2461, 'puppi': 2462, 'hat': 2463, 'figur': 2464, 'bound': 2465, 'pack': 2466, 'light': 2467, 'dope': 2468, 'spokan': 2469, 'bim': 2470, 'profession': 2471, 'mckinstri': 2472, 'construct': 2473, 'except': 2474, 'badg': 2475, 'austo': 2476, 'exclus': 2477, 'without': 2478, 'form': 2479, 'slaveri': 2480, 'intellectu': 2481, 'disabl': 2482, 'subject': 2483, 'j': 2484, 'cafeteria': 2485, 'conway': 2486, 'victim': 2487, 'typewrit': 2488, 'jr': 2489, '2001': 2490, 'ryder': 2491, 'frankfort': 2492, 'detail': 2493, 'oper': 2494, 'supplychain': 2495, 'smoosh': 2496, 'johnsonvill': 2497, 'llc': 2498, 'corporaterespons': 2499, 'reach': 2500, 'potenti': 2501, 'program': 2502, 'trumpliesmatt': 2503, 'jealous': 2504, '😻': 2505, '🤤': 2506, 'dawg': 2507, 'lovefit': 2508, 'psa': 2509, 'driver': 2510, 'add': 2511, 'm2': 2512, 'chassi': 2513, 'firetruck': 2514, 'reput': 2515, 'effici': 2516, 'qualiti': 2517, 'durabl': 2518, 'materi': 2519, 'lightweight': 2520, 'extrem': 2521, 'corros': 2522, 'aluminum': 2523, 'reinforc': 2524, 'coat': 2525, 'steel': 2526, 'nope': 2527, 'countdown': 2528, 'dec': 2529, 'buffalo': 2530, 'hybrid': 2531, 'pos': 2532, 'pow': 2533, 'multi': 2534, 'algorithm': 2535, 'blockchain': 2536, 'secur': 2537, '51': 2538, 'attack': 2539, 'violent': 2540, 'price': 2541, 'swing': 2542, 'btc': 2543, 'dgb': 2544, 'humour': 2545, 'fail': 2546, 'mustard': 2547, 'idiom': 2548, 'sake': 2549, 'ud': 2550, 'opin': 2551, 'le': 2552, 'gana': 2553, 'profesor': 2554, 'los': 2555, 'gusta': 2556, 'ndelo': 2557, 'carajo': 2558, 'sigan': 2559, 'extra': 2560, 'develop': 2561, 'leader': 2562, 'linkagewil': 2563, 'hack': 2564, 'sever': 2565, 'stranger': 2566, '🙃': 2567, 'promo': 2568, 'gong': 2569, 'thru': 2570, 'inquiri': 2571, 'dm': 2572, '🔌': 2573, 'hip': 2574, 'appl': 2575, 'cart': 2576, 'adult': 2577, 'ikea': 2578, 'fasur': 2579, 'phone': 2580, 'ring': 2581, 'seven': 2582, 'texa': 2583, 'roadhous': 2584, 'yesssirrrr': 2585, 'costar': 2586, 'pinch': 2587, 'caprisun': 2588, 'alv': 2589, 'thatxo': 2590, 'rollersk': 2591, 'pigtail': 2592, 'sock': 2593, 'probat': 2594, 'belong': 2595, 'moon': 2596, 'twp': 2597, 'incred': 2598, 'rmu': 2599, 'aww': 2600, 'crave': 2601, 'rabin': 2602, 'yisroel': 2603, 'finman': 2604, 'rabbin': 2605, 'albaniarabbi': 2606, 'broun': 2607, 'willi': 2608, 'pilku': 2609, 'relationship': 2610, 'jewish': 2611, 'albanian': 2612, 'jew': 2613, 'albania': 2614, 'holocaust': 2615, 'ditto': 2616, 'whatta': 2617, 'guyyy': 2618, 'loos': 2619, 'bat': 2620, 'ba': 2621, 'kasi': 2622, 'mahal': 2623, 'kita': 2624, 'mayor': 2625, 'pete': 2626, 'unqualifi': 2627, 'undu': 2628, 'damag': 2629, 'nutshel': 2630, 'oki': 2631, 'tb': 2632, 'quero': 2633, 'retweet': 2634, '07': 2635, 'nippi': 2636, 'fax': 2637, 'printer': 2638, 'saw': 2639, 'boo': 2640, 'momma': 2641, 'cookiessssss': 2642, 'happymonday': 2643, 'gamergirl': 2644, 'escal': 2645, 'stage': 2646, 'creator': 2647, 'festiv': 2648, '😫': 2649, 'saudi': 2650, 'incel': 2651, 'reallllll': 2652, 'avi': 2653, 'warrior': 2654, 'garbag': 2655, 'arriv': 2656, 'expect': 2657, 'lmaoooo': 2658, 'alturismo': 2659, 'amistad': 2660, 'isibindi': 2661, 'veur': 2662, 'ccisdproud': 2663, 'fourhousesoneunitedcrockettfamili': 2664, '💚': 2665, 'bbqfamili': 2666, 'hesit': 2667, 'faggotri': 2668, 'ah': 2669, 'miniatur': 2670, 'rihanna': 2671, 'omggg': 2672, 'dog': 2673, 'pain': 2674, 'dammit': 2675, 'ukulel': 2676, '😑': 2677, 'camryn': 2678, 'mama': 2679, 'wager': 2680, 'princip': 2681, 'footbal': 2682, 'offici': 2683, 'victor': 2684, 'durat': 2685, 'nole': 2686, 'cryin': 2687, 'aidan': 2688, 'lay': 2689, 'kee': 2690, 'mbn': 2691, 'newprofilep': 2692, 'mizzou': 2693, 'salut': 2694, 'answer': 2695, 'shout': 2696, 'poison': 2697, 'settl': 2698, '🎭': 2699, '💫': 2700, 'armedforc': 2701, 'navi': 2702, 'faction': 2703, 'larg': 2704, 'imperium': 2705, 'nid': 2706, 'gsc': 2707, 'eldar': 2708, 'ogzo': 2709, 'straw': 2710, 'grasp': 2711, '😡': 2712, '😐': 2713, 'belov': 2714, 'niec': 2715, 'platform': 2716, 'brown': 2717, 'messag': 2718, 'opinion': 2719, 'viewpoint': 2720, 'valid': 2721, 'elect': 2722, 'ive': 2723, 'sayin': 2724, 'survivor': 2725, 'isaiah': 2726, 'phil': 2727, 'wilson': 2728, 'hall': 2729, 'sunda': 2730, 'scienc': 2731, 'k': 2732, 'eileen': 2733, 'freedom': 2734, 'creat': 2735, 'offend': 2736, 'vancouv': 2737, 'communic': 2738, 'instructor': 2739, 'nacada': 2740, 'divers': 2741, 'amandaread': 2742, 'yassss': 2743, 'capricorn': 2744, 'vibe': 2745, 'blow': 2746, 'glizzi': 2747, 'tryn': 2748, 'fell': 2749, 'whopper': 2750, 'smart': 2751, 'reduc': 2752, 'pander': 2753, '11th': 2754, 'rainout': 2755, 'classescancel': 2756, 'ana': 2757, '8am': 2758, 'snooz': 2759, 'buypersonaonitun': 2760, 'buybtsoitun': 2761, 'twt': 2762, 'armyschoicebt': 2763, 'concert': 2764, 'complain': 2765, 'meaning': 2766, 'jus': 2767, 'complimentari': 2768, 'cheesesteak': 2769, 'courtesi': 2770, 'harrisonburg': 2771, 'hyundai': 2772, 'advantag': 2773, 'couldn': 2774, 'brb': 2775, 'delet': 2776, 'britch': 2777, 'allin': 2778, 'demarco': 2779, 'fielder': 2780, 'catcher': 2781, 'demon': 2782, 'neglig': 2783, 'cyber': 2784, 'evil': 2785, 'ethic': 2786, 'raykurzweil': 2787, 'markzuckerberg': 2788, 'homelanddefens': 2789, 'dhs': 2790, 'darpa': 2791, 'liberti': 2792, 'bck': 2793, 'creepi': 2794, 'cemeteri': 2795, 'kylaridesthebus': 2796, 'option': 2797, 'meh': 2798, '😒': 2799, 'miraaa': 2800, 'hug': 2801, 'nampa': 2802, 'rehears': 2803, 'bruh': 2804, 'tellin': 2805, '2006': 2806, 'dodg': 2807, 'ram': 2808, '1500': 2809, 'reg': 2810, 'cab': 2811, '4x4': 2812, 'short': 2813, '56': 2814, 'mile': 2815, 'magnum': 2816, 'tone': 2817, 'custom': 2818, 'graphic': 2819, '475': 2820, 'tag': 2821, 'buyer': 2822, 'kim': 2823, '419': 2824, '217': 2825, '7333': 2826, 'carfax': 2827, 'hahaha': 2828, 'ut': 2829, '😏': 2830, 'walker': 2831, 'aviso': 2832, 'tsunami': 2833, 'central': 2834, 'copper': 2835, 'dimension': 2836, 'hang': 2837, 'tray': 2838, 'picasso': 2839, 'male': 2840, 'femal': 2841, 'coppertray': 2842, 'copperart': 2843, 'picassostyl': 2844, 'artdecostyl': 2845, '60sstyle': 2846, 'boomer': 2847, 'disagre': 2848, 'hump': 2849, 'danger': 2850, '1915': 2851, 'mood': 2852, 'gawd': 2853, 'oil': 2854, 'fulli': 2855, 'deep': 2856, 'tissu': 2857, 'massag': 2858, 'pair': 2859, 'candl': 2860, 'xperiment': 2861, 'batch': 2862, '31': 2863, 'vanish': 2864, 'valley': 2865, 'brew': 2866, 'recommend': 2867, 'educ': 2868, 'edinburgh': 2869, 'academ': 2870, 'underr': 2871, 'hbd': 2872, 'coach': 2873, 'llamaz': 2874, 'illuminati': 2875, 'jay': 2876, 'chester': 2877, 'chris': 2878, 'breed': 2879, 'grind': 2880, 'industri': 2881, 'hide': 2882, 'everywher': 2883, 'site': 2884, 'popul': 2885, 'indian': 2886, 'disast': 2887, '🍒': 2888, 'feellatt': 2889, 'choic': 2890, 'cadetbonespur': 2891, 'lie': 2892, 'baba': 2893, 'callin': 2894, 'reportero': 2895, 'tele': 2896, 'fungiendo': 2897, 'analista': 2898, 'funden': 2899, 'bien': 2900, 'por': 2901, 'eso': 2902, 'cualquier': 2903, 'mequetref': 2904, 'dosi': 2905, 'cinismo': 2906, 'sobra': 2907, 'gran': 2908, 'en': 2909, 'programa': 2910, 'dond': 2911, 'curioso': 2912, 'las': 2913, 'repregunta': 2914, 'existen': 2915, 'meno': 2916, 'un': 2917, 'momentito': 2918, 'invitado': 2919, 'diciendo': 2920, 'falso': 2921, 'jaytaughtyouu': 2922, 'singl': 2923, 'bisexu': 2924, 'debat': 2925, 'lurk': 2926, 'streamer': 2927, 'viewer': 2928, 'therefor': 2929, 'arm': 2930, 'barri': 2931, 'tx': 2932, 'stuff': 2933, '18th': 2934, 'boil': 2935, 'spring': 2936, 'nc': 2937, 'cash': 2938, 'against': 2939, 'dean': 2940, 'chesa': 2941, 'lbr': 2942, 'unhealthili': 2943, 'obsess': 2944, 'encourag': 2945, '🐰': 2946, '😝': 2947, 'rebel': 2948, 'fam': 2949, 'environ': 2950, 'hbaac19': 2951, 'cmicompa': 2952, 'cardi': 2953, 'ryzen': 2954, 'per': 2955, '1080': 2956, 'core': 2957, 'spec': 2958, 'estamo': 2959, 'preparativo': 2960, 'nuestro': 2961, '2do': 2962, 'encuentro': 2963, 'reflexi': 2964, 'acci': 2965, 'ser': 2966, 'pr': 2967, 'ximo': 2968, '17': 2969, 'noviembr': 2970, '30am': 2971, '4pm': 2972, 'vamo': 2973, 'estar': 2974, 'trabajando': 2975, 'sanaci': 2976, 'inconscient': 2977, 'poder': 2978, 'leor': 2979, 'steer': 2980, 'peel': 2981, 'stick': 2982, 'vinyl': 2983, 'tile': 2984, 'linoleum': 2985, 'cost': 2986, 'dye': 2987, 'stain': 2988, 'former': 2989, 'occup': 2990, 'priceless': 2991, 'harleysvill': 2992, 'carlo': 2993, 'marc16': 2994, 'marri': 2995, '🤨': 2996, 'shuta': 2997, 'iniyakan': 2998, 'paulit': 2999, 'ulit': 3000, 'na': 3001, 'lang': 3002, 'mga': 3003, 'kasalanan': 3004, 'mo': 3005, 'nagchat': 3006, 'ka': 3007, 'ng': 3008, 'bumigay': 3009, 'ako': 3010, 'unfair': 3011, '🥀': 3012, 'button': 3013, 'quicker': 3014, 'advis': 3015, 'epstein': 3016, 'prison': 3017, 'yike': 3018, 'nervemb': 3019, 'clever': 3020, 'chiney': 3021, 'ogwumik': 3022, 'rap': 3023, 'farm': 3024, 'g': 3025, 'mention': 3026, 'fault': 3027, 'harbaugh': 3028, 'doubt': 3029, 'thrill': 3030, 'coyot': 3031, 'alabama': 3032, 'tide': 3033, 'vs': 3034, 'heatherrx': 3035, 'tacoma': 3036, 'washington': 3037, 'outfit': 3038, 'howev': 3039, 'squinti': 3040, 'splash': 3041, 'sosa': 3042, 'legaci': 3043, 'runnin': 3044, '10s': 3045, 'closur': 3046, 'chili': 3047, 'tend': 3048, 'lock': 3049, 'water': 3050, 'speech': 3051, '🤯': 3052, 'stir': 3053, 'pot': 3054, '🥄': 3055, 'hm': 3056, 'ur': 3057, 'jacob': 3058, 'humidifi': 3059, 'particular': 3060, 'ashi': 3061, '13': 3062, 'fremont': 3063, 'canyon': 3064, 'wsw': 3065, 'gust': 3066, '14': 3067, 'rh': 3068, 'temp': 3069, 'facial': 3070, 'virtu': 3071, 'signal': 3072, 'buttigieg': 3073, 'seek': 3074, 'secretari': 3075, 'ap': 3076, 'aye': 3077, 'cosmic': 3078, 'collect': 3079, 'batsign': 3080, 'choke': 3081, 'whoa': 3082, 'francesca': 3083, 'wearetp': 3084, 'tripl': 3085, 'ughh': 3086, 'kimy': 3087, 'hugh': 3088, 'audio': 3089, 'ahora': 3090, 'esto': 3091, 'poner': 3092, 'bueno': 3093, 'seahawk': 3094, '49s': 3095, 'tn': 3096, 'marie99': 3097, 'vogz': 3098, 'cannot': 3099, 'fallfashion': 3100, 'barbara': 3101, 'honey': 3102, 'half': 3103, 'aldhomaid': 3104, '127': 3105, 'rich': 3106, 'sub': 3107, 'round': 3108, 'higher': 3109, 'seed': 3110, 'automat': 3111, 'host': 3112, 'duh': 3113, 'acquir': 3114, 'tast': 3115, 'lucki': 3116, 'pit': 3117, 'scariest': 3118, 'escap': 3119, '💓': 3120, 'foward': 3121, '🍿': 3122, 'devil': 3123, 'jt': 3124, 'spiritu': 3125, 'sherril': 3126, '12row': 3127, 'setup': 3128, 'case': 3129, 'demo': 3130, '641': 3131, '790': 3132, '0002': 3133, 'hero': 3134, 'sacrifici': 3135, 'valu': 3136, 'dear': 3137, 'sacrt': 3138, 'sunris': 3139, 'mall': 3140, 'termin': 3141, 'citrus': 3142, 'height': 3143, 'miley': 3144, 'cyrus': 3145, 'vocal': 3146, '2the': 3147, 'flaco': 3148, 'yr': 3149, 'anniversari': 3150, 'brawl': 3151, 'cuz': 3152, 'argument': 3153, 'buff': 3154, 'steve': 3155, 'gold': 3156, 'sugar': 3157, 'daddi': 3158, 'maaaan': 3159, '58': 3160, 'oshtemo': 3161, 'kalamazoo': 3162, 'co': 3163, 'spotter': 3164, 'miami': 3165, 'batonroug': 3166, 'nashvill': 3167, 'musicc': 3168, 'smartest': 3169, 'crutch': 3170, 'freak': 3171, 'angri': 3172, 'wts': 3173, 'seventeen': 3174, 'caratbong': 3175, 'ver': 3176, 'within': 3177, '💎': 3178, 'ethereum': 3179, 'dapp': 3180, 'ux': 3181, 'web3': 3182, 'mode': 3183, 'signific': 3184, 'regardless': 3185, 'partner': 3186, 'soooo': 3187, 'shock': 3188, '🙋': 3189, 'eyebrow': 3190, 'pomad': 3191, 'marissa': 3192, 'kayleen': 3193, 'azzzzz': 3194, 'photo': 3195, 'ketter': 3196, 'boooooo': 3197, 'leas': 3198, 'hobo': 3199, 'sunshin': 3200, 'virtual': 3201, 'list': 3202, 'ivan': 3203, 'fairviewheight': 3204, 'il': 3205, 'realest': 3206, 'yup': 3207, 'bodybuild': 3208, 'ab': 3209, 'pec': 3210, 'muscl': 3211, 'gaymuscl': 3212, 'muscleworship': 3213, 'gayab': 3214, 'shirtless': 3215, 'instagay': 3216, 'gaysofinstagram': 3217, 'bicep': 3218, 'lat': 3219, 'shred': 3220, 'shredz': 3221, 'worshipm': 3222, '👊': 3223, 'uhhh': 3224, 'fishi': 3225, 'pittsburgh': 3226, 'defens': 3227, 'hater': 3228, 'lbs': 3229, 'dead': 3230, 'number': 3231, 'happyveteransday': 3232, 'herowod': 3233, 'crossfitwomen': 3234, 'amazon': 3235, '7ft': 3236, 'algebra': 3237, 'wendi': 3238, 'strong': 3239, 'flipth': 3240, 'major': 3241, 'powerless': 3242, 'migrain': 3243, 'lolololol': 3244, 'anytim': 3245, 'ncaa': 3246, 'tournament': 3247, 'lipscomb': 3248, 'sweatshirt': 3249, 'sleev': 3250, 'therealpbandj': 3251, 'chipotl': 3252, 'cliff': 3253, 'pta': 3254, 'nb': 3255, 'sarasota': 3256, 'palmtre': 3257, 'hugapalmtre': 3258, 'marina': 3259, 'uncondit': 3260, 'surrend': 3261, 'statu': 3262, 'bell': 3263, 'tuh': 3264, 'xp': 3265, 'eden': 3266, 'scene': 3267, 'warn': 3268, 'spice': 3269, 'pal': 3270, 'often': 3271, 'lastnight': 3272, 'club': 3273, 'bol': 3274, 'bob': 3275, 'dylan': 3276, 'larri': 3277, 'campbel': 3278, 'band': 3279, 'laser': 3280, 'garnier': 3281, 'rt': 3282, 'ing': 3283, 'lust': 3284, 'nosey': 3285, 'brain': 3286, 'eagl': 3287, 'bone': 3288, 'english': 3289, 'action': 3290, 'establish': 3291, 'achiev': 3292, 'status': 3293, 'idiomat': 3294, 'equival': 3295, 'bona': 3296, 'fide': 3297, '♂': 3298, 'roadrunn': 3299, 'wors': 3300, 'remov': 3301, 'serb': 3302, 'ice': 3303, 'injuri': 3304, 'risk': 3305, 'pride': 3306, '🎀': 3307, 'mattgolsteyn': 3308, 'betray': 3309, 'trust': 3310, 'fidelityfrommarinesbetrayedbyarmi': 3311, 'armydeepst': 3312, 'doddeepst': 3313, 'semperfid': 3314, 'owe': 3315, 'blood': 3316, 'debt': 3317, 'dem': 3318, 'nomatt': 3319, 'unfold': 3320, 'horowitz': 3321, 'durham': 3322, 'horrizon': 3323, 'mommi': 3324, 'ik': 3325, 'crowd': 3326, 'cfg': 3327, 'mondaymotiv': 3328, 'traitor': 3329, 'dodger': 3330, 'mondayvib': 3331, 'followback': 3332, 'return': 3333, 'wheeler': 3334, 'chow': 3335, 'aew': 3336, 'length': 3337, 'tlw': 3338, 'dungeon': 3339, 'synth': 3340, 'ambient': 3341, 'third': 3342, 'dungeonsynth': 3343, 'darkambi': 3344, 'blackmet': 3345, 'sadiebaabi': 3346, '101': 3347, 'wwi': 3348, 'grab': 3349, 'wiper': 3350, 'scraper': 3351, 'foolish': 3352, 'austin360': 3353, 'amphitheat': 3354, '⚡': 3355, 'older': 3356, 'oldest': 3357, '73': 3358, 'suffolk': 3359, 'dangero': 3360, 'hook': 3361, 'cav': 3362, 'lookin': 3363, 'portal': 3364, 'date': 3365, 'smartorno': 3366, 'whydoilovewatchingthisstuff': 3367, 'imafreak': 3368, 'noimjustabeliev': 3369, 'fascin': 3370, 'roman': 3371, 'curs': 3372, 'isn': 3373, 'dividend': 3374, 'account': 3375, 'reward': 3376, 'impact': 3377, 'budweis': 3378, 'chop': 3379, 'sandwich': 3380, 'brisket': 3381, 'bookmark': 3382, 'mvp': 3383, 'sb': 3384, 'liv': 3385, 'nobodi': 3386, 'leg': 3387, 'screw': 3388, 'extens': 3389, 'porch': 3390, 'discuss': 3391, 'memaw': 3392, 'rural': 3393, 'aunt': 3394, 'joyc': 3395, 'kennedi': 3396, 'ephemera': 3397, 'maxwel': 3398, 'taylor': 3399, 'uncl': 3400, 'cousin': 3401, 'irvin': 3402, 'consol': 3403, 'monitor': 3404, 'cctv': 3405, 'securityoffic': 3406, 'store': 3407, 'guest': 3408, 'valet': 3409, '8072': 3410, 'hospit': 3411, 'vail': 3412, 'jpg': 3413, 'kulkog': 3414, 'nalang': 3415, 'madam': 3416, 'marathon': 3417, 'yea': 3418, 'abbi': 3419, 'cat': 3420, 'mid': 3421, 'mirror': 3422, 'mask': 3423, 'ipa': 3424, 'ddh': 3425, 'generous': 3426, 'galaxi': 3427, 'au': 3428, 'mosaic': 3429, 'staff': 3430, '4pk': 3431, 'bottl': 3432, 'brewpub': 3433, '➖': 3434, 'master': 3435, 'troller': 3436, 'asa': 3437, 'african': 3438, 'courtyard': 3439, 'plate': 3440, '🚨': 3441, 'emotionless': 3442, 'compar': 3443, 'obama': 3444, 'potus': 3445, 'backup': 3446, 'icloud': 3447, 'jig': 3448, 'echo': 3449, 'alexa': 3450, 'hahah': 3451, 'easteregg': 3452, 'intertek': 3453, 'middleton': 3454, 'businessmgmt': 3455, 'administr': 3456, 'assist': 3457, 'cortars': 3458, 'cabello': 3459, 'sient': 3460, 'tan': 3461, 'hooah': 3462, 'mac': 3463, 'sparrow': 3464, 'applic': 3465, 'specif': 3466, 'keyword': 3467, 'resum': 3468, 'skilledtrad': 3469, 'eastlans': 3470, 'hormon': 3471, 'monster': 3472, 'tryna': 3473, 'milfi': 3474, 'alro': 3475, '1948': 3476, '70': 3477, 'expand': 3478, 'troy': 3479, '1942': 3480, 'head': 3481, 'fighter': 3482, 'vintag': 3483, 'inde': 3484, 'sundaystash': 3485, 'sneakerhead': 3486, 'addictforsneak': 3487, 'sneakerfiend': 3488, 'asic': 3489, 'gelv': 3490, 'cigar': 3491, 'cigaraficionado': 3492, 'myfathercigar': 3493, 'donpepingarcia': 3494, 'cigarenthusiast': 3495, 'botl': 3496, 'handmad': 3497, 'wah': 3498, 'knock': 3499, 'jeremi': 3500, 'stan': 3501, 'mcd': 3502, 'sudden': 3503, 'duncan': 3504, 'keith': 3505, 'depth': 3506, 'benadryl': 3507, 'jailbait': 3508, '⚫': 3509, 'dnc': 3510, 'unemploy': 3511, 'solv': 3512, 'empow': 3513, 'reform': 3514, 'success': 3515, 'patriot': 3516, 'fabul': 3517, 'psych': 3518, 'daca': 3519, 'overreach': 3520, 'author': 3521, 'uppppppp': 3522, 'mytwitteranniversari': 3523, 'wes': 3524, 'lotion': 3525, 'notch': 3526, 'dri': 3527, 'db': 3528, 'reallllli': 3529, 'clariti': 3530, 'lack': 3531, 'knowledg': 3532, 'essenti': 3533, 'backer': 3534, 'aliv': 3535, '88': 3536, 'hv': 3537, 'mcdonald': 3538, 'camera': 3539, 'sauc': 3540, 'flow': 3541, 'arkansa': 3542, 'racist': 3543, 'idiot': 3544, 'puck': 3545, 'southlak': 3546, 'type': 3547, 'bre': 3548, 'irrit': 3549, 'mighti': 3550, '8bti': 3551, 'commando': 3552, 'team29': 3553, 'soldier': 3554, 'bde': 3555, '🎱': 3556, 'aaaaaaahhhhhhhhhhhhhhhh': 3557, 'five': 3558, 'linhardt': 3559, 'jajajajajajajaj': 3560, 'ni': 3561, 'hab': 3562, 'visto': 3563, 'vete': 3564, 'beerleagu': 3565, 'hockey': 3566, '30pm': 3567, 'understand': 3568, 'trembl': 3569, 'worthless': 3570, 'noodl': 3571, 'uon': 3572, 'tacko': 3573, 'reckless21': 3574, 'howl': 3575, 'fixedatzero': 3576, 'maupin': 3577, 'newstori': 3578, 'kuy': 3579, 'leed': 3580, 'masters29': 3581, 'writer': 3582, 'hudson': 3583, 'cdcummin': 3584, 'modesto': 3585, 'regionsrisetogeth': 3586, 'jam': 3587, 'three': 3588, 'omen': 3589, 'guid': 3590, 'newark': 3591, 'congrat': 3592, 'fella': 3593, 'swsh': 3594, 'throat': 3595, 'barbecu': 3596, 'mix': 3597, 'chicken': 3598, 'thesi': 3599, 'awwwww': 3600, 'christina': 3601, 'rris': 3602, 'till': 3603, 'media': 3604, 'fw': 3605, 'photograph': 3606, 'enthusiast': 3607, 'soul': 3608, 'forthelonghaul': 3609, 'ulta': 3610, 'gather': 3611, 'glow': 3612, 'avail': 3613, 'rockhil': 3614, 'sc': 3615, 'cosmetolog': 3616, 'wdym': 3617, 'dearpresidenttrump': 3618, 'extort': 3619, 'payer': 3620, 'write': 3621, 'transplant': 3622, 'rotat': 3623, 'debut': 3624, '😁': 3625, 'ducking17': 3626, 'walker7': 3627, 'dave': 3628, 'bonker': 3629, 'centura': 3630, 'parker': 3631, 'physician': 3632, 'aspen': 3633, 'creek': 3634, 'lmaooooo': 3635, 'fife': 3636, 'inventori': 3637, 'financ': 3638, 'skill': 3639, '😜': 3640, 'pleasant': 3641, 'instruct': 3642, 'temporari': 3643, 'assign': 3644, 'diablo': 3645, 'depart': 3646, 'geotechn': 3647, 'kansasc': 3648, 'ks': 3649, 'descript': 3650, 'cinta': 3651, 'greenvill': 3652, 'cintasjob': 3653, 'mock': 3654, 'titan': 3655, 'sale': 3656, 'traine': 3657, 'rosevill': 3658, 'mn': 3659, 'gopenskecar': 3660, 'hi': 3661, 'podcast': 3662, 'forward': 3663, 'weight': 3664, 'ammo': 3665, 'brrrrrr': 3666, 'ohhhhh': 3667, 'spici': 3668, 'dadjok': 3669, 'valmont': 3670, 'bolivia': 3671, 'hubo': 3672, 'golp': 3673, 'estado': 3674, 'dirigido': 3675, 'propio': 3676, 'president': 3677, 'desd': 3678, 'mismo': 3679, 'momento': 3680, 'constituci': 3681, 'decidi': 3682, 'reelegirs': 3683, 'una': 3684, 'vez': 3685, 'hizo': 3686, 'caso': 3687, 'omiso': 3688, 'ndum': 3689, 'luego': 3690, 'eleccion': 3691, 'perpetuars': 3692, 'dragon': 3693, 'ride': 3694, 'sloth': 3695, 'combo': 3696, 'breez': 3697, 'kno': 3698, 'mann': 3699, 'fasttrack': 3700, '🍻': 3701, 'wouldn': 3702, 'aaai': 3703, 'strait': 3704, 'buda': 3705, 'danc': 3706, 'jen': 3707, 'ty': 3708, 'lacy16': 3709, 'easier': 3710, 'toy': 3711, 'involv': 3712, 'oral': 3713, 'vagina': 3714, 'munch': 3715, 'box': 3716, 'krab': 3717, 'gay': 3718, 'detest': 3719, 'chapstick': 3720, 'field': 3721, 'swarm': 3722, 'minnesota': 3723, 'satisfact': 3724, 'worthi': 3725, 'coupl': 3726, '01': 3727, 'pt': 3728, 'redd': 3729, 'produc': 3730, 'pace': 3731, 'ig': 3732, 'info': 3733, 'sociolog': 3734, 'psycholog': 3735, 'technic': 3736, 'aspect': 3737, 'juev': 3738, 'auditorio': 3739, 'sto': 3740, 'tom': 3741, 'aquino': 3742, '9pm': 3743, 'concierto': 3744, 'generat': 3745, 'rdl': 3746, 'viern': 3747, '15nov': 3748, 'evento': 3749, 'privado': 3750, 'colegio': 3751, 'os': 3752, 'williamsburg': 3753, 'bado': 3754, '16nov': 3755, 'gimnasio': 3756, 'ave': 3757, 'dabo': 3758, 'secret': 3759, 'weapon': 3760, 'recruit': 3761, 'chile': 3762, 'rexx': 3763, 'klk': 3764, 'tis': 3765, 'tch': 3766, 'explor': 3767, 'theboondock': 3768, 'king': 3769, 'crabtreevalleymal': 3770, 'tistheseason': 3771, 'forthecultur': 3772, 'alliwantforchristmasisyou': 3773, 'freshcut': 3774, '🎄': 3775, 'fort': 3776, 'dix': 3777, '1954': 3778, 'kant': 3779, 'beard': 3780, 'awe': 3781, 'contract': 3782, 'alt': 3783, 'kawhi': 3784, 'lebron': 3785, 'curious': 3786, 'woo': 3787, 'antelop': 3788, 'ra': 3789, 'bot': 3790, 'maze': 3791, 'fsplmakermonday': 3792, 'scott': 3793, 'harden': 3794, 'graceee': 3795, 'coward': 3796, 'jerri': 3797, 'ayo': 3798, 'breath': 3799, 'awhil': 3800, 'gastatepark': 3801, 'waterfal': 3802, 'cloudlandcanyon': 3803, 'hemlock': 3804, 'exploregeorgia': 3805, 'alisonadventur': 3806, 'ctto': 3807, 'rank': 3808, 'combat': 3809, 'televis': 3810, 'bill': 3811, 'faux': 3812, '🍇': 3813, 'simp': 3814, 'themarathoncontinu': 3815, 'tkeyah': 3816, 'cuss': 3817, 'korean': 3818, 'bbq': 3819, 'halal': 3820, 'onevoic': 3821, 'dunno': 3822, 'saj': 3823, 'freejewel': 3824, 'judici': 3825, 'napolitano': 3826, 'profess': 3827, 'constitut': 3828, 'desper': 3829, 'democrat': 3830, 'politician': 3831, 'notmeus': 3832, 'nomiddleground': 3833, 'bernie2020': 3834, '33': 3835, 'musica': 3836, 'nfl': 3837, 'rule': 3838, 'drill': 3839, 'excel': 3840, 'casual': 3841, 'indyroy': 3842, 'crack': 3843, '2week': 3844, 'hershey': 3845, 'porter': 3846, 'ankl': 3847, 'ft': 3848, 'shift': 3849, 'comedown': 3850, 'xoxo': 3851, 'bun': 3852, 'recip': 3853, 'focus': 3854, 'ingredi': 3855, 'unabl': 3856, 'page': 3857, 'bing': 3858, 'modelo': 3859, 'mx': 3860, 'herbi': 3861, 'mexican': 3862, 'terrenc': 3863, 'satan': 3864, 'ad': 3865, '1million': 3866, 'truli': 3867, 'glenmor': 3868, 'jenkin': 3869, '84': 3870, 'sx': 3871, 'saintcloud': 3872, 'halfway': 3873, '20week': 3874, 'teamtime2shin': 3875, 'dwts': 3876, 'allysha': 3877, 'allygi': 3878, 'crib': 3879, 'u24': 3880, 'arborblu': 3881, 'braveri': 3882, 'arbor': 3883, 'blu': 3884, 'duplanti': 3885, 'jd': 3886, 'solo': 3887, 'hay': 3888, 'tener': 3889, 'elbooker1': 3890, '🧡': 3891, 'featur': 3892, '2825': 3893, 'orono': 3894, '750': 3895, 'bds': 3896, '10ba': 3897, 'garag': 3898, '2000': 3899, 'sq': 3900, 'acr': 3901, 'european': 3902, 'estat': 3903, '360': 3904, 'feet': 3905, 'lakeshor': 3906, 'hvac': 3907, 'mainten': 3908, 'worker': 3909, 'kohl': 3910, 'menomoneefal': 3911, 'deactiv': 3912, 'facebook': 3913, 'jointbaseandrew': 3914, 'thuggin': 3915, 'luv': 3916, 'ww2': 3917, 'germani': 3918, 'resent': 3919, 'repar': 3920, 'bias': 3921, 'wrecker': 3922, 'justic': 3923, 'teenag': 3924, 'eleph': 3925, 'tourist': 3926, 'rid': 3927, 'labor': 3928, 'warehous': 3929, 'packag': 3930, 'handler': 3931, 'brainerd': 3932, '1930': 3933, 'billion': 3934, 'cooper': 3935, 'teraa97': 3936, 'lemm': 3937, 'asi': 3938, 'decretado': 3939, '📿': 3940, 'northsid': 3941, 'hun': 3942, 'tailbon': 3943, 'fractur': 3944, 'heal': 3945, 'legal': 3946, 'direct': 3947, 'fund': 3948, 'dustin': 3949, 'aneurysm': 3950, 'uber': 3951, 'committe': 3952, 'alot': 3953, 'dang': 3954, 'soooooo': 3955, 'youuuu': 3956, 'faculti': 3957, 'submit': 3958, 'paper': 3959, 'gen': 3960, 'propos': 3961, 'await': 3962, 'result': 3963, 'sleet': 3964, 'austin': 3965, 'nw': 3966, 'yktv': 3967, 'yahurdmeh': 3968, 'queen': 3969, 'bernardina': 3970, '1199': 3971, '1996': 3972, 'promis': 3973, 'bihhhhh': 3974, '👉': 3975, '🙅': 3976, 'morton': 3977, 'tompkin': 3978, 'u0': 3979, 'voxx': 3980, 'banana': 3981, '🍌': 3982, 'arrest': 3983, 'bike': 3984, 'lane': 3985, 'flamingo': 3986, 'publix': 3987, '1980s': 3988, '90s': 3989, 'grocer': 3990, 'lakeland': 3991, 'fl': 3992, 'winn': 3993, 'dixi': 3994, 'jacksonvill': 3995, 'tip': 3996, 'chagrin': 3997, 'tipper': 3998, 'council': 3999, '25': 4000, 'hyanni': 4001, '288': 4002, '824': 4003, 'theater': 4004, 'averag': 4005, '72': 4006, '206': 4007, 'goooooooooo': 4008, 'tbh': 4009, 'gah': 4010, 'flagship': 4011, 'western': 4012, 'indi': 4013, '👈': 4014, 'goofi': 4015, 'card': 4016, 'teas': 4017, 'justcarina': 4018, 'anahata': 4019, 'disturb': 4020, '⭐': 4021, 'dj': 4022, 'afterparti': 4023, 'bibo': 4024, '👑': 4025, 'abund': 4026, 'stress': 4027, 'nowaday': 4028, 'pileonthemil': 4029, 'theme': 4030, 'stretch': 4031, 'rais': 4032, 'neglect': 4033, 'bunch': 4034, 'selfi': 4035, 'ladi': 4036, 'penal': 4037, 'doublemajor': 4038, 'improv': 4039, 'nodramazon': 4040, 'notimeforit': 4041, 'realtalk': 4042, 'thetruth': 4043, 'hype': 4044, 'baylor': 4045, 'ethel': 4046, '🍷': 4047, 'waaaa': 4048, 'disgust': 4049, 'cordewproduct': 4050, 'ricardo': 4051, 'cordew': 4052, 'entrepreneur': 4053, 'amstar': 4054, 'cinema': 4055, 'lineag': 4056, 'align': 4057, 'liber': 4058, 'fba': 4059, 'vie': 4060, 'tenzer': 4061, '9076': 4062, 'avon': 4063, 'orlando': 4064, 'dreeeeeam': 4065, 'subtweet': 4066, 'kristin': 4067, 'digit': 4068, 'comprehend': 4069, 'endors': 4070, 'zero': 4071, 'buck': 4072, 'loveeeeeeeeeeeeeeeeeee': 4073, 'departur': 4074, 'effect': 4075, 'iah': 4076, 'flightdelay': 4077, 'yellow': 4078, 'expert': 4079, 'beg': 4080, '💨': 4081, '🤫': 4082, 'data': 4083, 'mega64gamedays2019': 4084, 'chill': 4085, '👅': 4086, 'banter': 4087, 'leverag': 4088, 'bayern': 4089, 'munich': 4090, 'levi': 4091, 'factual': 4092, 'speedway': 4093, '160': 4094, 'kreager2columbus': 4095, 'bellat': 4096, 'esp': 4097, 'hassleback': 4098, 'analysi': 4099, 'horribl': 4100, 'plenti': 4101, 'convert': 4102, 'admit': 4103, 'spfc': 4104, 'diretoria': 4105, 'vai': 4106, 'mudar': 4107, 'infelizment': 4108, 'ent': 4109, 'unica': 4110, 'forma': 4111, 'campo': 4112, 'ter': 4113, 'algum': 4114, 'tipo': 4115, 'sucesso': 4116, 'fazer': 4117, 'isso': 4118, 'contratar': 4119, 'pessoa': 4120, 'competent': 4121, 'pra': 4122, 'cuidar': 4123, 'deixar': 4124, 'ela': 4125, 'paz': 4126, 'trabalhar': 4127, 'assim': 4128, 'funcionar': 4129, 'headlin': 4130, 'sesh': 4131, 'veerandwanderdc': 4132, 'nourish': 4133, 'ground': 4134, 'cbd': 4135, 'accoutr': 4136, 'ommmmm': 4137, 'mortgag': 4138, 'wedgi': 4139, 'pageantri': 4140, 'intox': 4141, '2009': 4142, 'presidenti': 4143, 'harrass': 4144, 'rent': 4145, 'indoor': 4146, '🧐': 4147, 'naje': 4148, 'rtr': 4149, '🐘': 4150, 'wife': 4151, 'min': 4152, 'cam214': 4153, 'pgcps': 4154, 'kgeezzi': 4155, 'amus': 4156, 'carousel': 4157, 'wooden': 4158, 'roller': 4159, 'coaster': 4160, 'steeler': 4161, 'peak': 4162, 'gett': 4163, 'treat': 4164, 'afternoon': 4165, 'menu': 4166, 'accomplish': 4167, 'goal': 4168, 'along': 4169, 'humbl': 4170, '13th': 4171, 'marc': 4172, 'delamett': 4173, 'cooki': 4174, 'pelvic': 4175, 'wework': 4176, 'founder': 4177, 'adam': 4178, 'neumann': 4179, 'barney': 4180, 'bankruptci': 4181, '🏈': 4182, '123': 4183, 'yakkala': 4184, 'plan': 4185, 'backfir': 4186, 'trade': 4187, 'intent': 4188, 'impost': 4189, 'helpdesk': 4190, 'ii': 4191, 'broomfield': 4192, 'maximo': 4193, 'salina': 4194, 'convo': 4195, 'housekeep': 4196, 'invit': 4197, 'norwalk': 4198, 'entri': 4199, 'journey': 4200, 'mantl': 4201, 'market': 4202, 'websit': 4203, 'englewood': 4204, 'pompanobeach': 4205, 'softwar': 4206, 'r4857': 4207, 'complyright': 4208, 'inc': 4209, 'river05': 4210, 'father': 4211, 'upset': 4212, '😥': 4213, '🤪': 4214, 'shi': 4215, 'storeroom': 4216, 'stock': 4217, 'hmshost': 4218, 'referr': 4219, 'lasvega': 4220, 'nv': 4221, 'kokomo': 4222, 'nervous': 4223, 'drafter': 4224, 'match': 4225, 'underestim': 4226, 'suffici': 4227, 'gratitud': 4228, 'neartear': 4229, 'cartch': 4230, 'gtfo': 4231, 'custodian': 4232, 'vermont': 4233, 'newport': 4234, 'vt': 4235, 'nowher': 4236, 'golden': 4237, 'gate': 4238, 'mamacita': 4239, 'translat': 4240, 'kyle': 4241, 'stasierowski': 4242, '🏇': 4243, 'gtmv': 4244, 'despit': 4245, 'mext': 4246, '🤳': 4247, 'mekhi24': 4248, 'highlandern': 4249, 'troll': 4250, 'incid': 4251, 'cline': 4252, 'i95': 4253, '24': 4254, 'exit': 4255, 'grenhart': 4256, 'rd': 4257, 'contact': 4258, 'lightwarrior': 4259, 'cinelight': 4260, 'superquad': 4261, 'coproduct': 4262, 'americanfilmmarket': 4263, 'locationexpo': 4264, 'afm2019': 4265, 'tokyo': 4266, 'jalisco': 4267, 'taipei': 4268, 'connecticut': 4269, 'losangel': 4270, 'ms': 4271, 'llami': 4272, 'salami': 4273, 'yani': 4274, 'alin': 4275, 'er': 4276, 'ook': 4277, 'niet': 4278, 'walgelijk': 4279, 'fakenew': 4280, 'husband': 4281, 'immedi': 4282, 'horror': 4283, 'mysteri': 4284, 'chanc': 4285, 'ward': 4286, 'delusion': 4287, 'witti': 4288, 'obvious': 4289, 'faggot': 4290, 'bath': 4291, 'describ': 4292, 'crime': 4293, 'tapphoria': 4294, 'taphous': 4295, 'tigard': 4296, 'tigardor': 4297, 'tigardoregon': 4298, 'nicetap': 4299, '97223': 4300, '97224': 4301, 'penn': 4302, 'apoya': 4303, 'publicaci': 4304, 'ayer': 4305, 'hasta': 4306, 'racista': 4307, 'necesario': 4308, 'ojal': 4309, 'pase': 4310, 'mitad': 4311, 'cuba': 4312, 'pasado': 4313, 'fuera': 4314, 'toda': 4315, 'democracia': 4316, 'inner': 4317, 'luden': 4318, 'candi': 4319, 'toast': 4320, 'stookey': 4321, '00pm': 4322, 'cocktail': 4323, 'stookeysclubmodern': 4324, 'clubmodern': 4325, 'armisticeday': 4326, 'atta': 4327, 'boyc': 4328, 'amooo': 4329, 'monts': 4330, 'vessel': 4331, 'sedona': 4332, 'hannah': 4333, 'thx': 4334, 'nick': 4335, 'diaz': 4336, 'quot': 4337, 'nickdiazarmi': 4338, 'blh': 4339, 'battl': 4340, 'solid': 4341, 'similar': 4342, '4dp': 4343, 'app': 4344, 'savag': 4345, 'weasel': 4346, 'sport': 4347, 'lmaoooooo': 4348, 'bean': 4349, 'rice': 4350, 'biscuit': 4351, 'popey': 4352, 'kitchen': 4353, 'reddit': 4354, 'goddammit': 4355, 'redditdown': 4356, 'guess': 4357, 'shuffler': 4358, 'jaym': 4359, 'bbfan': 4360, 'lovelanguag': 4361, 'dior': 4362, 'brow': 4363, 'ladiezzzz': 4364, 'flounder': 4365, 'uncertainti': 4366, 'hiccup': 4367, 'path': 4368, 'quit': 4369, 'burrito': 4370, 'lancast': 4371, 'cautious': 4372, 'novembersnow': 4373, 'snow2019': 4374, 'bench': 4375, 'hxro': 4376, 'undead': 4377, 'ion': 4378, 'dissert': 4379, 'merg': 4380, 'bit': 4381, 'key': 4382, 'phd': 4383, 'mannnnn': 4384, 'phdchat': 4385, 'phdlife': 4386, 'deadass': 4387, 'distanc': 4388, '2014': 4389, '569': 4390, 'suburbanexpedit': 4391, 'galleri': 4392, '555': 4393, 'behold': 4394, 'thingswesaybutdontmean': 4395, 'brian': 4396, 'juicewrld': 4397, 'mothership': 4398, 'levit': 4399, 'fireonthemountain': 4400, 'deadhead': 4401, 'gratefuldead': 4402, 'deadandcompani': 4403, 'transmitida': 4404, 'espa': 4405, 'ol': 4406, 'necesito': 4407, 'saber': 4408, 'vamosmorado': 4409, 'chant': 4410, 'exposur': 4411, 'okoro': 4412, 'decim': 4413, 'pitt': 4414, 'domin': 4415, 'rod': 4416, 'convers': 4417, 'stg': 4418, 'whirlwind': 4419, 'sean': 4420, 'bittersweet': 4421, 'kamber': 4422, 'stamp': 4423, 'instal': 4424, 'print': 4425, 'residenti': 4426, 'upton': 4427, 'resid': 4428, 'customart': 4429, 'hangingwithfriend': 4430, 'quarter': 4431, '🤲': 4432, 'commit': 4433, 'employe': 4434, 'oklahomac': 4435, 'wegman': 4436, 'chick': 4437, 'fil': 4438, 'desus': 4439, 'mero': 4440, 'showtim': 4441, 'kimber': 4442, 'anywher': 4443, 'oooh': 4444, 'metallica': 4445, '🤘': 4446, '🤟': 4447, 'wont': 4448, 'poll': 4449, 'quas': 4450, 'cinco': 4451, 'semana': 4452, 'eu': 4453, 'voltar': 4454, 'br': 4455, 'gent': 4456, 'pelota': 4457, 'manda': 4458, 'sinal': 4459, 'pfv': 4460, 'submiss': 4461, 'children': 4462, 'ribbert': 4463, 'cummin': 4464, 'safe': 4465, 'somewher': 4466, 'wbief': 4467, 'nola': 4468, '2017': 4469, 'pdx': 4470, 'march': 4471, 'silverstein20': 4472, 'silverstein': 4473, 'loader': 4474, 'unload': 4475, 'prologistix': 4476, 'fuimo': 4477, 'somo': 4478, 'tica': 4479, 'sex': 4480, 'bamo': 4481, 'esta': 4482, 'puerta': 4483, 'nueva': 4484, 'carriebradshow': 4485, 'sexandthec': 4486, 'johnson8': 4487, 'tape': 4488, '3000': 4489, 'trial': 4490, 'nightmar': 4491, 'gottagoal2set150': 4492, 'lovingmeandlovinglawnandgarden': 4493, 'charlott': 4494, 'independ': 4495, 'columbia': 4496, 'honeycomb': 4497, 'customerservic': 4498, 'lololol': 4499, 'stadium': 4500, '🐗': 4501, 'qatar': 4502, 'buttercup': 4503, 'mbnel': 4504, 'stockton': 4505, 'flyer': 4506, 'addi': 4507, 'smash': 4508, 'triad': 4509, 'hsot': 4510, 'preseason': 4511, 'wbb': 4512, 'athlet': 4513, 'wbball': 4514, 'tiger': 4515, 'gbb': 4516, '⃣': 4517, 'fieri': 4518, 'roofinspect': 4519, 'floridabuildersengin': 4520, 'homeinspect': 4521, 'homeinspector': 4522, '8778948001': 4523, 'tampafl': 4524, 'tampa': 4525, 'bay': 4526, 'thinkin': 4527, 'london': 4528, 'imu': 4529, 'waterb': 4530, '1994': 4531, 'tribe': 4532, 'stopppp': 4533, 'ittttt': 4534, 'hoe': 4535, 'churro': 4536, 'mami': 4537, 'ivi': 4538, 'downtown': 4539, 'satx': 4540, 'unicornpunch': 4541, 'funnnnnnn': 4542, 'proof': 4543, '🎂': 4544, '😈': 4545, '🦄': 4546, 'delight': 4547, 'fieldhous': 4548, 'dine': 4549, '🏁': 4550, 'hof': 4551, 'easili': 4552, 'proclam': 4553, 'artwork': 4554, 'motion': 4555, 'corn': 4556, 'glass': 4557, 'glassblow': 4558, 'glassart': 4559, 'glassshow': 4560, 'bop': 4561, 'kerri': 4562, 'brush': 4563, 'cloud': 4564, 'robert': 4565, 'redwood': 4566, 'philli': 4567, 'wpe': 4568, 'kushner': 4569, 'corrupt': 4570, 'michael': 4571, 'kor': 4572, 'wristlet': 4573, 'wallet': 4574, 'cream': 4575, 'previouslylov': 4576, 'michaelkor': 4577, 'michaelmichaelkor': 4578, 'michaelkorsresal': 4579, 'styleforless': 4580, 'whybuynew': 4581, 'encor': 4582, 'stuart': 4583, 'walgreen': 4584, 'express': 4585, 'jewelsanddrug': 4586, 'clemson': 4587, 'dc': 4588, 'brent': 4589, 'venabl': 4590, 'frighten': 4591, 'ghetto': 4592, 'boyfriend': 4593, 'trigger': 4594, 'shonuff': 4595, 'pffft': 4596, 'gna': 4597, 'garibaldi': 4598, 'wrestl': 4599, 'rider': 4600, 'southwest': 4601, 'taller': 4602, 'shotgun': 4603, 'enabl': 4604, 'integr': 4605, 'projectmgmt': 4606, 'philadelphia': 4607, 'caller': 4608, 'advoc': 4609, 'petrino': 4610, 'nutt': 4611, 'moron': 4612, 'doofus': 4613, 'ahhhhhhh': 4614, 'millenni': 4615, 'zoomer': 4616, 'fair': 4617, 'progress': 4618, 'dislik': 4619, 'xer': 4620, 'purpos': 4621, 'wwii': 4622, 'thegreatestgener': 4623, 'blanket': 4624, 'sooth': 4625, 'tether': 4626, '🦀': 4627, 'cop': 4628, 'headband': 4629, 'gram': 4630, 'cozyszn': 4631, 'nanowrimo': 4632, 'technolog': 4633, 'consum': 4634, 'nohop': 4635, 'heb': 4636, 'slaughter': 4637, 'bendecido': 4638, '😘': 4639, 'myheadach': 4640, '🤞': 4641, 'famous': 4642, 'dicen': 4643, 'feminista': 4644, 'mujer': 4645, 'volada': 4646, 'desaparecida': 4647, 'choqu': 4648, 'evo': 4649, 'nde': 4650, 'lema': 4651, 'argumento': 4652, 'vac': 4653, 'significado': 4654, 'utilizado': 4655, 'dar': 4656, 'tienda': 4657, 'suelta': 4658, 'odio': 4659, 'rquico': 4660, 'nother': 4661, 'whaa': 4662, 'stalk': 4663, 'lawrence8': 4664, 'wut': 4665, 'zizzi': 4666, 'libbi': 4667, 'boutit': 4668, 'polic': 4669, 'blizzard': 4670, 'safeti': 4671, 'dairi': 4672, 'myb': 4673, 'blakeeddin': 4674, 'scouter': 4675, 'caldwel': 4676, 'wireless': 4677, 'osl': 4678, 'expens': 4679, 'ailment': 4680, 'colbadilla': 4681, 'celesti': 4682, 'thai': 4683, 'curri': 4684, 'cheflif': 4685, 'culinaryart': 4686, 'alacuisin': 4687, 'anarchistcookbook': 4688, 'elasticday': 4689, 'review': 4690, 'slide': 4691, 'astrofest': 4692, 'plug': 4693, 'riley': 4694, 'luke': 4695, 'comb': 4696, 'predict': 4697, 'songwrit': 4698, 'grandpa': 4699, 'cersei': 4700, 'lmaoo': 4701, 'thehunt': 4702, 'onepack': 4703, 'battleborn': 4704, 'vintageart': 4705, 'midcenturi': 4706, 'etsi': 4707, 'smallspac': 4708, 'kitsch': 4709, 'litho': 4710, 'powderroom': 4711, 'floral': 4712, 'sixti': 4713, 'walldecor': 4714, 'cormacgordon': 4715, 'marchi': 4716, 'dicarlo': 4717, 'assembl': 4718, 'connolli': 4719, 'vitaliano': 4720, 'stranier': 4721, 'constitu': 4722, '65': 4723, 'beautywithoutlimit': 4724, 'advisor': 4725, 'wilmington': 4726, 'ultabeauti': 4727, 'cosbi': 4728, 'transport': 4729, 'teammat': 4730, 'director': 4731, 'cater': 4732, 'walter': 4733, 'convent': 4734, 'fordham': 4735, 'lincoln': 4736, 'professor': 4737, 'uniqu': 4738, 'literari': 4739, 'techniqu': 4740, 'inspr': 4741, 'farewel': 4742, 'virgin': 4743, 'harass': 4744, 'demean': 4745, 'manipul': 4746, 'assault': 4747, 'sarra': 4748, 'nefew': 4749, 'centereach': 4750, 'jim': 4751, 'derosa': 4752, 'anthoni': 4753, 'dima': 4754, 'beav': 4755, 'marque': 4756, 'confer': 4757, 'oklahoma': 4758, 'newberri': 4759, 'doctorwho': 4760, '💤': 4761, '😴': 4762, 'hoodi': 4763, 'size': 4764, 'talent': 4765, 'vip': 4766, 'bake': 4767, 'guilti': 4768, 'guilt': 4769, 'receipt': 4770, 'amplif': 4771, 'small': 4772, 'scepter': 4773, 'merchandis': 4774, 'merch': 4775, 'mochiv': 4776, 'muse': 4777, 'mochibaybe': 4778, 'djmochibaybe': 4779, 'djmochi': 4780, 'kenyandj': 4781, 'africanfemaledj': 4782, 'femaledj': 4783, 'sam': 4784, 'issa': 4785, 'brockhampton': 4786, 'rex': 4787, 'clairo': 4788, 'omar': 4789, 'apollo': 4790, 'fike': 4791, 'scooter': 4792, 'skater': 4793, 'dev': 4794, 'hyne': 4795, 'uuu': 4796, 'soulcalibur2': 4797, 'gamecub': 4798, 'stat': 4799, 'mayrita': 4800, 'muy': 4801, 'seria': 4802, 'merec': 4803, 'hombr': 4804, 'deje': 4805, 'respirar': 4806, 'six': 4807, 'guard': 4808, 'fool': 4809, 'wee': 4810, 'discredit': 4811, 'imag': 4812, 'dom': 4813, 'cherri': 4814, 'rough': 4815, 'shelter': 4816, 'gooooooooo': 4817, 'gonin': 4818, 'weren': 4819, 'cypherpunk': 4820, 'bakkt': 4821, 'bearer': 4822, 'asset': 4823, 'bitcoin': 4824, 'placement': 4825, 'commentari': 4826, 'analog': 4827, 'enlist': 4828, 'riquelm': 4829, 'mollymolli': 4830, 'trin': 4831, 'network': 4832, '🧚': 4833, 'demand': 4834, 'legislatur': 4835, 'fulfil': 4836, 'amend': 4837, 'civiizen': 4838, 'enamorada': 4839, 'tuitero': 4840, 'raro': 4841, 'ola': 4842, 'maduren': 4843, '🌊': 4844, 'stub': 4845, '9th': 4846, 'phishpost': 4847, 'phish': 4848, 'genscher': 4849, 'auf': 4850, 'balkon': 4851, 'prag': 4852, 'ein': 4853, 'sternstund': 4854, 'der': 4855, 'freien': 4856, 'welt': 4857, 'auch': 4858, 'jahr': 4859, 'sp': 4860, 'nsehaut': 4861, 'ich': 4862, 'hockt': 4863, 'ruhrpott': 4864, 'vor': 4865, 'und': 4866, 'wusst': 4867, 'erleb': 4868, 'gerad': 4869, 'zeitgeschichtet': 4870, 'propheci': 4871, 'eschatolog': 4872, 'strength': 4873, 'accur': 4874, 'interpret': 4875, 'thankaveteran': 4876, 'thankasoldi': 4877, 'veteransdaysunset': 4878, 'batteri': 4879, 'adventur': 4880, 'mpp': 4881, 'dirti': 4882, 'understat': 4883, 'death': 4884, 'sentenc': 4885, 'abt': 4886, 'migrant': 4887, 'asylum': 4888, 'kannapoli': 4889, 'flgovernorscup': 4890, 'tonin': 4891, 'chat': 4892, 'cerrar': 4893, 'tiempo': 4894, 'comeback': 4895}\n"
     ]
    }
   ],
   "source": [
    "word_dict = dict()\n",
    "word_id = 0\n",
    "for ele in X:\n",
    "    ele = ele.split()\n",
    "    for word in ele:\n",
    "        if word not in word_dict:\n",
    "            word_dict[word] = word_id \n",
    "            word_id += 1       \n",
    "    \n",
    "X_id = []\n",
    "    \n",
    "print(word_dict)"
   ]
  },
  {
   "cell_type": "code",
   "execution_count": 26,
   "metadata": {},
   "outputs": [
    {
     "name": "stdout",
     "output_type": "stream",
     "text": [
      "[]\n"
     ]
    }
   ],
   "source": [
    "\n",
    "all_dict = []\n",
    "\n",
    "for i in range(len(X)):\n",
    "    wordDict = dict.fromkeys(word_dict, 0)\n",
    "    ele = X[i].split()\n",
    "    for word in ele:\n",
    "        wordDict[word] += 1\n",
    "    all_dict.append(wordDict)"
   ]
  },
  {
   "cell_type": "code",
   "execution_count": 28,
   "metadata": {},
   "outputs": [
    {
     "name": "stdout",
     "output_type": "stream",
     "text": [
      "[['realiz', 'tonight', 'titti', 'man', '😂', '😎'], ['capper'], ['actin', 'like', 'realli', 'want', 'gon', 'get', 'fuck', 'good', 'get', 'feel', '😋'], ['rememb', 'first', 'hear', 'song', 'alway', 'favorit'], ['don', 't', 'need', 'cupcak', 'ken', 'cmon'], ['ikyfl', '😭'], ['cant', 'go', 'back', 'sleep'], ['haha', 'true', '😂'], ['bounc', 'shit', 'forev', 'knee'], ['btw', 'devour', 'blog', 'day', 'love', 'back']]\n"
     ]
    }
   ],
   "source": [
    "Xnew = []\n",
    "for i in range(len(X)):\n",
    "    ele = X[i].split()\n",
    "    Xnew.append(ele)\n",
    "print(Xnew[:10])"
   ]
  },
  {
   "cell_type": "code",
   "execution_count": 60,
   "metadata": {},
   "outputs": [],
   "source": [
    "import math\n",
    "from sklearn.feature_extraction.text import TfidfVectorizer\n",
    "from sklearn.decomposition import TruncatedSVD\n",
    "\n",
    "def computeTF(wordDict, bow):\n",
    "    tfDict = {}\n",
    "    bowCount = len(bow)\n",
    "    for word, count in wordDict.items():\n",
    "        tfDict[word] = count/float(bowCount)\n",
    "    return tfDict\n",
    "\n",
    "def computeIDF(docList):\n",
    "    idfDict = {}\n",
    "    N = len(docList)\n",
    "    \n",
    "    idfDict = dict.fromkeys(docList[0].keys(), 0)\n",
    "    for doc in docList:\n",
    "        for word, val in doc.items():\n",
    "            if val > 0:\n",
    "                idfDict[word] += 1\n",
    "    \n",
    "    for word, val in idfDict.items():\n",
    "        idfDict[word] = math.log10(N / float(val))\n",
    "        \n",
    "    return idfDict\n",
    "\n",
    "def computeTFIDF(tfBow, idfs):\n",
    "    tfidf = {}\n",
    "    for word, val in tfBow.items():\n",
    "        tfidf[word] = val*idfs[word]\n",
    "    return tfidf\n",
    "\n",
    "\n",
    "\n",
    "idfs = computeIDF(all_dict)\n",
    "result = []\n",
    "for i in range(len(all_dict)):\n",
    "    tf = computeTF(all_dict[i], Xnew[i])\n",
    "    tfidf = computeTFIDF(tf, idfs)\n",
    "    output = list(tfidf.values())\n",
    "    result.append(output)\n",
    "\n",
    "\n",
    "document_topic_matrix = TruncatedSVD(n_components=100, random_state=0).fit_transform(result)\n",
    "\n",
    "id_topic={}\n",
    "a = np.argsort(document_topic_matrix, axis=1)\n",
    "for i in range(len(document_topic_matrix)):\n",
    "    top5 = np.argsort(document_topic_matrix[i])[-5:][::-1]\n",
    "    id_topic[i] = list(top5)\n",
    "\n",
    "\n",
    "X_new = list(id_topic.values())"
   ]
  },
  {
   "cell_type": "code",
   "execution_count": 38,
   "metadata": {},
   "outputs": [
    {
     "name": "stdout",
     "output_type": "stream",
     "text": [
      "[[0, 9, 97, 80, 96], [43, 25, 60, 42, 23], [80, 97, 9, 89, 13], [13, 9, 4, 92, 0], [80, 9, 69, 89, 93], [3, 0, 78, 76, 73], [80, 9, 87, 5, 95], [0, 86, 88, 9, 5], [13, 80, 94, 95, 90], [9, 65, 56, 92, 66]]\n"
     ]
    }
   ],
   "source": [
    "print(X_new[:10])"
   ]
  },
  {
   "cell_type": "code",
   "execution_count": 84,
   "metadata": {},
   "outputs": [],
   "source": [
    "from sklearn.model_selection import train_test_split\n",
    "X_train, X_test, y_train, y_test = train_test_split(X_new, Y, test_size=0.2, shuffle = True)\n"
   ]
  },
  {
   "cell_type": "code",
   "execution_count": 85,
   "metadata": {},
   "outputs": [
    {
     "name": "stdout",
     "output_type": "stream",
     "text": [
      "Decision Tree: 0.5429362880886427\n"
     ]
    }
   ],
   "source": [
    "from sklearn.tree import DecisionTreeClassifier\n",
    "from sklearn.neighbors import KNeighborsClassifier\n",
    "decision_tree = DecisionTreeClassifier(random_state=0)\n",
    "decision_tree.fit(X_train, y_train)\n",
    "decision_tree_score = decision_tree.score(X_test, y_test)\n",
    "print('Decision Tree:', decision_tree_score)"
   ]
  },
  {
   "cell_type": "code",
   "execution_count": 86,
   "metadata": {},
   "outputs": [
    {
     "name": "stdout",
     "output_type": "stream",
     "text": [
      "KNN: 0.481994459833795\n"
     ]
    }
   ],
   "source": [
    "from sklearn.neighbors import KNeighborsClassifier\n",
    "knn = KNeighborsClassifier(n_neighbors=5)\n",
    "knn.fit(X_train, y_train)\n",
    "knn_score = knn.score(X_test, y_test)\n",
    "print('KNN:',knn_score)"
   ]
  },
  {
   "cell_type": "code",
   "execution_count": 87,
   "metadata": {},
   "outputs": [
    {
     "name": "stdout",
     "output_type": "stream",
     "text": [
      "SVM: 0.5263157894736842\n"
     ]
    },
    {
     "name": "stderr",
     "output_type": "stream",
     "text": [
      "/Users/iris0301/opt/anaconda3/lib/python3.7/site-packages/sklearn/svm/base.py:193: FutureWarning: The default value of gamma will change from 'auto' to 'scale' in version 0.22 to account better for unscaled features. Set gamma explicitly to 'auto' or 'scale' to avoid this warning.\n",
      "  \"avoid this warning.\", FutureWarning)\n"
     ]
    }
   ],
   "source": [
    "from sklearn.linear_model import LinearRegression\n",
    "from sklearn.svm import SVC\n",
    "svm = SVC(random_state=0)\n",
    "svm.fit(X_train, y_train)\n",
    "svm_score = svm.score(X_test, y_test)\n",
    "print('SVM:',svm_score)"
   ]
  },
  {
   "cell_type": "code",
   "execution_count": 144,
   "metadata": {},
   "outputs": [],
   "source": [
    "from gensim.models.phrases import Phrases, Phraser\n",
    "\n",
    "tokenized_train = [t.split() for t in X]\n",
    "phrases = Phrases(tokenized_train)\n",
    "bigram = Phraser(phrases)\n",
    "tg_phrases = Phrases(bigram[tokenized_train])\n",
    "trigram = Phraser(tg_phrases)"
   ]
  },
  {
   "cell_type": "code",
   "execution_count": 155,
   "metadata": {},
   "outputs": [],
   "source": [
    "X_train, X_test, y_train, y_test = train_test_split(X, Y, test_size=0.2, shuffle = True)"
   ]
  },
  {
   "cell_type": "code",
   "execution_count": 148,
   "metadata": {},
   "outputs": [
    {
     "name": "stderr",
     "output_type": "stream",
     "text": [
      "/Users/iris0301/opt/anaconda3/lib/python3.7/site-packages/ipykernel_launcher.py:8: DeprecationWarning:\n",
      "\n",
      "Call to deprecated `LabeledSentence` (Class will be removed in 4.0.0, use TaggedDocument instead).\n",
      "\n"
     ]
    }
   ],
   "source": [
    "import pandas as pd\n",
    "from gensim.models.doc2vec import LabeledSentence, Doc2Vec, TaggedDocument\n",
    "\n",
    "def labelize_tweets_bg(tweets,label):\n",
    "    result = []\n",
    "    prefix = label\n",
    "    for i, t in enumerate(tweets):\n",
    "        result.append(LabeledSentence(trigram[bigram[t.split()]], [prefix + '_%s' % i]))\n",
    "    return result\n",
    "  \n",
    "#all_x = pd.concat([X_train,X_test])\n",
    "all_x_w2v_bg = labelize_tweets_bg(X, 'all')\n"
   ]
  },
  {
   "cell_type": "code",
   "execution_count": 149,
   "metadata": {},
   "outputs": [
    {
     "name": "stderr",
     "output_type": "stream",
     "text": [
      "/Users/iris0301/opt/anaconda3/lib/python3.7/site-packages/gensim/models/doc2vec.py:574: UserWarning:\n",
      "\n",
      "The parameter `size` is deprecated, will be removed in 4.0.0, use `vector_size` instead.\n",
      "\n",
      "100%|██████████| 1804/1804 [00:00<00:00, 1919463.32it/s]\n",
      "100%|██████████| 1804/1804 [00:00<00:00, 2371207.90it/s]\n",
      "100%|██████████| 1804/1804 [00:00<00:00, 2728642.05it/s]\n",
      "100%|██████████| 1804/1804 [00:00<00:00, 2186224.91it/s]\n",
      "100%|██████████| 1804/1804 [00:00<00:00, 2216322.32it/s]\n",
      "100%|██████████| 1804/1804 [00:00<00:00, 2093091.12it/s]\n",
      "100%|██████████| 1804/1804 [00:00<00:00, 2904615.90it/s]\n",
      "100%|██████████| 1804/1804 [00:00<00:00, 1487423.71it/s]\n",
      "100%|██████████| 1804/1804 [00:00<00:00, 1632827.88it/s]\n",
      "100%|██████████| 1804/1804 [00:00<00:00, 2216322.32it/s]\n",
      "100%|██████████| 1804/1804 [00:00<00:00, 2097733.41it/s]\n",
      "100%|██████████| 1804/1804 [00:00<00:00, 2822276.92it/s]\n",
      "100%|██████████| 1804/1804 [00:00<00:00, 2554532.21it/s]\n",
      "100%|██████████| 1804/1804 [00:00<00:00, 1212972.81it/s]\n",
      "100%|██████████| 1804/1804 [00:00<00:00, 1724760.52it/s]\n",
      "100%|██████████| 1804/1804 [00:00<00:00, 1499212.29it/s]\n",
      "100%|██████████| 1804/1804 [00:00<00:00, 2551087.13it/s]\n",
      "100%|██████████| 1804/1804 [00:00<00:00, 1475243.60it/s]\n",
      "100%|██████████| 1804/1804 [00:00<00:00, 2545080.53it/s]\n",
      "100%|██████████| 1804/1804 [00:00<00:00, 1821941.83it/s]\n",
      "100%|██████████| 1804/1804 [00:00<00:00, 2588615.95it/s]\n",
      "100%|██████████| 1804/1804 [00:00<00:00, 2515466.89it/s]\n",
      "100%|██████████| 1804/1804 [00:00<00:00, 2566663.64it/s]\n",
      "100%|██████████| 1804/1804 [00:00<00:00, 2395227.74it/s]\n",
      "100%|██████████| 1804/1804 [00:00<00:00, 2943027.78it/s]\n",
      "100%|██████████| 1804/1804 [00:00<00:00, 2529764.10it/s]\n",
      "100%|██████████| 1804/1804 [00:00<00:00, 2474337.61it/s]\n",
      "100%|██████████| 1804/1804 [00:00<00:00, 2675574.40it/s]\n",
      "100%|██████████| 1804/1804 [00:00<00:00, 2649343.28it/s]\n",
      "100%|██████████| 1804/1804 [00:00<00:00, 1722797.00it/s]\n",
      "100%|██████████| 1804/1804 [00:00<00:00, 2458260.04it/s]\n"
     ]
    }
   ],
   "source": [
    "from sklearn import utils\n",
    "from tqdm import tqdm\n",
    "\n",
    "#cores = multiprocessing.cpu_count()\n",
    "model_bg_dbow = Doc2Vec(dm=0, size=100, negative=5, min_count=2, alpha=0.065, min_alpha=0.065)\n",
    "model_bg_dbow.build_vocab([x for x in tqdm(all_x_w2v_bg)])\n",
    "\n",
    "for epoch in range(30):\n",
    "    model_bg_dbow.train(utils.shuffle([x for x in tqdm(all_x_w2v_bg)]), total_examples=len(all_x_w2v_bg), epochs=1)\n",
    "    model_bg_dbow.alpha -= 0.002\n",
    "    model_bg_dbow.min_alpha = model_bg_dbow.alpha\n",
    "    "
   ]
  },
  {
   "cell_type": "code",
   "execution_count": 150,
   "metadata": {},
   "outputs": [],
   "source": [
    "def get_vectors(model, corpus, size):\n",
    "    vecs = np.zeros((len(corpus), size))\n",
    "    n = 0\n",
    "    for i in range(len(corpus)):\n",
    "        prefix = 'all_' + str(i)\n",
    "        vecs[n] = model.docvecs[prefix]\n",
    "        n += 1\n",
    "    return vecs\n",
    "\n",
    "train_vecs_dbow_bg = get_vectors(model_bg_dbow, X_train, 100)\n",
    "validation_vecs_dbow_bg = get_vectors(model_bg_dbow, X_test, 100)\n"
   ]
  },
  {
   "cell_type": "code",
   "execution_count": 156,
   "metadata": {},
   "outputs": [
    {
     "name": "stderr",
     "output_type": "stream",
     "text": [
      "/Users/iris0301/opt/anaconda3/lib/python3.7/site-packages/sklearn/linear_model/logistic.py:432: FutureWarning:\n",
      "\n",
      "Default solver will be changed to 'lbfgs' in 0.22. Specify a solver to silence this warning.\n",
      "\n",
      "/Users/iris0301/opt/anaconda3/lib/python3.7/site-packages/sklearn/linear_model/logistic.py:469: FutureWarning:\n",
      "\n",
      "Default multi_class will be changed to 'auto' in 0.22. Specify the multi_class option to silence this warning.\n",
      "\n"
     ]
    },
    {
     "data": {
      "text/plain": [
       "0.4903047091412742"
      ]
     },
     "execution_count": 156,
     "metadata": {},
     "output_type": "execute_result"
    }
   ],
   "source": [
    "from sklearn.linear_model import LogisticRegression\n",
    "clf = LogisticRegression()\n",
    "clf.fit(train_vecs_dbow_bg, y_train)\n",
    "clf.score(validation_vecs_dbow_bg, y_test)"
   ]
  },
  {
   "cell_type": "code",
   "execution_count": null,
   "metadata": {},
   "outputs": [],
   "source": []
  }
 ],
 "metadata": {
  "kernelspec": {
   "display_name": "Python 3",
   "language": "python",
   "name": "python3"
  },
  "language_info": {
   "codemirror_mode": {
    "name": "ipython",
    "version": 3
   },
   "file_extension": ".py",
   "mimetype": "text/x-python",
   "name": "python",
   "nbconvert_exporter": "python",
   "pygments_lexer": "ipython3",
   "version": "3.7.4"
  }
 },
 "nbformat": 4,
 "nbformat_minor": 2
}
