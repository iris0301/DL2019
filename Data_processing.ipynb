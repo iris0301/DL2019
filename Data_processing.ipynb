{
 "cells": [
  {
   "cell_type": "code",
   "execution_count": 31,
   "metadata": {},
   "outputs": [
    {
     "name": "stdout",
     "output_type": "stream",
     "text": [
      "Automatically created module for IPython interactive environment\n",
      "['i’m', 'realized', 'tonight', 'i', 'was', 'a', 'titty', 'man', '😎😂']\n"
     ]
    },
    {
     "ename": "NameError",
     "evalue": "name 'split' is not defined",
     "output_type": "error",
     "traceback": [
      "\u001b[0;31m---------------------------------------------------------------------------\u001b[0m",
      "\u001b[0;31mNameError\u001b[0m                                 Traceback (most recent call last)",
      "\u001b[0;32m<ipython-input-31-ddcdc25439f6>\u001b[0m in \u001b[0;36m<module>\u001b[0;34m\u001b[0m\n\u001b[1;32m     54\u001b[0m     \u001b[0;32mfor\u001b[0m \u001b[0mrow\u001b[0m \u001b[0;32min\u001b[0m \u001b[0mcsv_reader\u001b[0m\u001b[0;34m:\u001b[0m\u001b[0;34m\u001b[0m\u001b[0;34m\u001b[0m\u001b[0m\n\u001b[1;32m     55\u001b[0m         \u001b[0mcleaned_row\u001b[0m \u001b[0;34m=\u001b[0m \u001b[0;34m[\u001b[0m\u001b[0;34m]\u001b[0m\u001b[0;34m\u001b[0m\u001b[0;34m\u001b[0m\u001b[0m\n\u001b[0;32m---> 56\u001b[0;31m         \u001b[0mclean_text\u001b[0m \u001b[0;34m=\u001b[0m \u001b[0mclean\u001b[0m\u001b[0;34m(\u001b[0m\u001b[0mrow\u001b[0m\u001b[0;34m[\u001b[0m\u001b[0;34m'Text'\u001b[0m\u001b[0;34m]\u001b[0m\u001b[0;34m,\u001b[0m\u001b[0mrow\u001b[0m\u001b[0;34m[\u001b[0m\u001b[0;34m'Emoji'\u001b[0m\u001b[0;34m]\u001b[0m\u001b[0;34m)\u001b[0m\u001b[0;34m\u001b[0m\u001b[0;34m\u001b[0m\u001b[0m\n\u001b[0m\u001b[1;32m     57\u001b[0m         \u001b[0mcleaned_row\u001b[0m\u001b[0;34m.\u001b[0m\u001b[0mappend\u001b[0m\u001b[0;34m(\u001b[0m\u001b[0mclean_text\u001b[0m\u001b[0;34m)\u001b[0m\u001b[0;34m\u001b[0m\u001b[0;34m\u001b[0m\u001b[0m\n\u001b[1;32m     58\u001b[0m         \u001b[0;32mif\u001b[0m \u001b[0mfloat\u001b[0m\u001b[0;34m(\u001b[0m\u001b[0mrow\u001b[0m\u001b[0;34m[\u001b[0m\u001b[0;34m'Sentiment'\u001b[0m\u001b[0;34m]\u001b[0m\u001b[0;34m)\u001b[0m \u001b[0;34m>\u001b[0m \u001b[0;36m0\u001b[0m\u001b[0;34m:\u001b[0m\u001b[0;34m\u001b[0m\u001b[0;34m\u001b[0m\u001b[0m\n",
      "\u001b[0;32m<ipython-input-31-ddcdc25439f6>\u001b[0m in \u001b[0;36mclean\u001b[0;34m(text, emoji)\u001b[0m\n\u001b[1;32m     40\u001b[0m     \u001b[0mstemmer\u001b[0m \u001b[0;34m=\u001b[0m \u001b[0mSnowballStemmer\u001b[0m\u001b[0;34m(\u001b[0m\u001b[0;34m'english'\u001b[0m\u001b[0;34m)\u001b[0m\u001b[0;34m\u001b[0m\u001b[0;34m\u001b[0m\u001b[0m\n\u001b[1;32m     41\u001b[0m     \u001b[0mnewtext\u001b[0m \u001b[0;34m=\u001b[0m \u001b[0mlist\u001b[0m\u001b[0;34m(\u001b[0m\u001b[0mmap\u001b[0m\u001b[0;34m(\u001b[0m\u001b[0mstemmer\u001b[0m\u001b[0;34m.\u001b[0m\u001b[0mstem\u001b[0m\u001b[0;34m,\u001b[0m \u001b[0mnewtext\u001b[0m\u001b[0;34m)\u001b[0m\u001b[0;34m)\u001b[0m\u001b[0;34m\u001b[0m\u001b[0;34m\u001b[0m\u001b[0m\n\u001b[0;32m---> 42\u001b[0;31m     \u001b[0memojis\u001b[0m \u001b[0;34m=\u001b[0m \u001b[0msplit\u001b[0m\u001b[0;34m(\u001b[0m\u001b[0memoji\u001b[0m\u001b[0;34m)\u001b[0m\u001b[0;34m\u001b[0m\u001b[0;34m\u001b[0m\u001b[0m\n\u001b[0m\u001b[1;32m     43\u001b[0m     \u001b[0mnewtext\u001b[0m \u001b[0;34m=\u001b[0m \u001b[0mnewtext\u001b[0m \u001b[0;34m+\u001b[0m \u001b[0memojis\u001b[0m\u001b[0;34m\u001b[0m\u001b[0;34m\u001b[0m\u001b[0m\n\u001b[1;32m     44\u001b[0m     \u001b[0mnewtext\u001b[0m \u001b[0;34m=\u001b[0m \u001b[0;34m' '\u001b[0m\u001b[0;34m.\u001b[0m\u001b[0mjoin\u001b[0m\u001b[0;34m(\u001b[0m\u001b[0mnewtext\u001b[0m\u001b[0;34m)\u001b[0m\u001b[0;34m\u001b[0m\u001b[0;34m\u001b[0m\u001b[0m\n",
      "\u001b[0;31mNameError\u001b[0m: name 'split' is not defined"
     ]
    }
   ],
   "source": [
    "%matplotlib inline\n",
    "\n",
    "print(__doc__)\n",
    "\n",
    "import numpy as np\n",
    "import matplotlib.pyplot as plt\n",
    "import re\n",
    "import json\n",
    "import nltk\n",
    "try:\n",
    "    nltk.data.find('corpora/stopwords')\n",
    "except LookupError:\n",
    "    nltk.download('stopwords')\n",
    "    nltk.download(\"words\")\n",
    "\n",
    "from nltk.corpus import stopwords\n",
    "from nltk.stem import SnowballStemmer\n",
    "from nltk.tokenize import RegexpTokenizer\n",
    "from nltk.corpus import wordnet\n",
    "#from mpl_toolkits.mplot3d import Axes3D\n",
    "#from mpl_toolkits.mplot3d import proj3d\n",
    "import csv\n",
    "\n",
    "with open('emoji/emoji_final_join.json',encoding='utf-8') as f: \n",
    "    emoji_list = json.load(f)\n",
    "\n",
    "\n",
    "\n",
    "def clean(text,emoji):\n",
    "    text = text.lower()\n",
    "    text = text.split()\n",
    "    print(text)\n",
    "    newtext = [x for x in text if not x.startswith('@') and not x.startswith('https')]\n",
    "    newtext = ' '.join(newtext)\n",
    "    tokenizer = RegexpTokenizer(r'\\w+')\n",
    "    newtext = tokenizer.tokenize(newtext)\n",
    "    #stop_words = stopwords.words('english')\n",
    "    #newtext =  [w for w in newtext if not w in stop_words]\n",
    "    #stopwords.words will delete word 'not' which is important for sentiment analysis, so we don't remove stopwords.\n",
    "    stemmer = SnowballStemmer('english')\n",
    "    newtext = list(map(stemmer.stem, newtext))\n",
    "    emojis = split(emoji)\n",
    "    newtext = newtext + emojis\n",
    "    newtext = ' '.join(newtext)\n",
    "    \n",
    "    return newtext\n",
    "    \n",
    "\n",
    "\n",
    "\n",
    "with open('smalldata.csv',encoding=\"utf8\") as words_file:\n",
    "    csv_reader = csv.DictReader(words_file, delimiter = ',')\n",
    "    data = []\n",
    "    for row in csv_reader:\n",
    "        cleaned_row = []\n",
    "        clean_text = clean(row['Text'],row['Emoji'])\n",
    "        cleaned_row.append(clean_text)\n",
    "        if float(row['Sentiment']) > 0:\n",
    "            cleaned_row.append('positive')\n",
    "        elif float(row['Sentiment']) < 0:\n",
    "            cleaned_row.append('negative')\n",
    "        else:\n",
    "            if float(row['Emoji_sentiment']) > 0:\n",
    "                cleaned_row.append('positive')\n",
    "            elif float(row['Emoji_sentiment']) < 0:\n",
    "                cleaned_row.append('negative')\n",
    "            else:\n",
    "                cleaned_row.append('neutral')\n",
    "        \n",
    "        cleaned_row.append(row['Emoji'])\n",
    "        data.append(np.array(cleaned_row))\n",
    "    data = np.array(data)\n",
    "    \n",
    "print(data[:10])\n",
    "#Y = data[:,0]\n",
    "#X = np.row_stack((data[:,1:4].astype(np.float)))\n"
   ]
  },
  {
   "cell_type": "code",
   "execution_count": 29,
   "metadata": {},
   "outputs": [
    {
     "data": {
      "text/plain": [
       "['a', 'm', 'sss', 'sss']"
      ]
     },
     "execution_count": 29,
     "metadata": {},
     "output_type": "execute_result"
    }
   ],
   "source": [
    "a= ['a','m']\n",
    "b = ['sss','sss']\n",
    "a+b"
   ]
  },
  {
   "cell_type": "code",
   "execution_count": null,
   "metadata": {},
   "outputs": [],
   "source": []
  }
 ],
 "metadata": {
  "kernelspec": {
   "display_name": "Python 3",
   "language": "python",
   "name": "python3"
  },
  "language_info": {
   "codemirror_mode": {
    "name": "ipython",
    "version": 3
   },
   "file_extension": ".py",
   "mimetype": "text/x-python",
   "name": "python",
   "nbconvert_exporter": "python",
   "pygments_lexer": "ipython3",
   "version": "3.7.4"
  }
 },
 "nbformat": 4,
 "nbformat_minor": 2
}
