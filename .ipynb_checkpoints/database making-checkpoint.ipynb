{
 "cells": [
  {
   "cell_type": "code",
   "execution_count": 5,
   "metadata": {},
   "outputs": [],
   "source": [
    "#For specific key words table\n",
    "\n",
    "import requests\n",
    "import sqlite3\n",
    "import os\n",
    "import urllib\n",
    "import re\n",
    "import json\n",
    "from datetime import timedelta, date\n",
    "from time import sleep\n",
    "import regex\n",
    "\n",
    "        \n",
    "\n",
    "with open('11-10.json', encoding='utf-8') as f:\n",
    "    raw = json.load(f)        \n",
    "        \n",
    "\n",
    "conn = sqlite3.connect('tweets.db')\n",
    "c = conn.cursor()\n",
    "\n",
    "c.execute('DROP TABLE IF EXISTS \"tweet\";')\n",
    "\n",
    "c.execute('''CREATE TABLE tweet (id NUMBER NOT NULL UNIQUE, text TEXT NOT NULL, \n",
    "sentiment NUMBER NOT NULL, emoji TEXT, emoji_polarity NUMBER NOT NULL, user_id NUMBER NOT NULL, name TEXT, location TEXT, \n",
    "retweet_count NUMBER NOT NULL, favorite_count NUMBER NOT NULL, time TEXT)''')\n",
    "\n",
    "\n",
    "\n",
    "for tweet in raw:\n",
    "    \n",
    "    c.execute('INSERT OR IGNORE INTO tweet (id, text, sentiment, emoji, emoji_polarity, user_id, name, location, retweet_count, favorite_count, time) VALUES (?, ?, ?, ?, ?, ?, ?, ?, ?, ?, ?)',\n",
    "              (tweet[0]['id'], tweet[0]['text'], tweet[0]['sentiment'], tweet[0]['emoji'], tweet[0]['emoji_polarity'], tweet[0]['user_id'],\n",
    "               tweet[0]['name'], tweet[0]['location'] , tweet[0]['retweet count'], tweet[0]['favorite count'], tweet[0]['time'] ))\n",
    "        \n",
    "\n",
    "\n",
    "conn.commit()\n",
    "conn.close()"
   ]
  },
  {
   "cell_type": "code",
   "execution_count": 3,
   "metadata": {},
   "outputs": [],
   "source": [
    "#http://inloop.github.io/sqlite-viewer/ \n",
    "# view db online"
   ]
  },
  {
   "cell_type": "code",
   "execution_count": 7,
   "metadata": {},
   "outputs": [],
   "source": [
    "#For specific key words table\n",
    "\n",
    "import requests\n",
    "import sqlite3\n",
    "import os\n",
    "import urllib\n",
    "import re\n",
    "import json\n",
    "from datetime import timedelta, date\n",
    "from time import sleep\n",
    "import regex\n",
    "\n",
    "        \n",
    "\n",
    "with open('trump03.json', encoding='utf-8') as f:\n",
    "    raw = json.load(f)        \n",
    "        \n",
    "\n",
    "conn = sqlite3.connect('tweets.db')\n",
    "c = conn.cursor()\n",
    "\n",
    "#c.execute('DROP TABLE IF EXISTS \"donald\";')\n",
    "\n",
    "#c.execute('''CREATE TABLE donald (id NUMBER NOT NULL UNIQUE, text TEXT NOT NULL,  user_id NUMBER NOT NULL, name TEXT, location TEXT, \n",
    "#retweet_count NUMBER NOT NULL, favorite_count NUMBER NOT NULL, time TEXT, emoji TEXT)''')\n",
    "\n",
    "\n",
    "\n",
    "for tweet in raw:\n",
    "    \n",
    "    c.execute('INSERT OR IGNORE INTO donald (id, text, user_id, name, location, retweet_count, favorite_count, time, emoji) VALUES (?, ?, ?, ?, ?, ?, ?, ?, ?)',\n",
    "              (tweet[0]['id'], tweet[0]['text'], tweet[0]['user_id'],\n",
    "               tweet[0]['name'], tweet[0]['location'] , tweet[0]['retweet count'], tweet[0]['favorite count'], tweet[0]['time'],tweet[0]['emoji'] ))\n",
    "        \n",
    "\n",
    "\n",
    "conn.commit()\n",
    "conn.close()"
   ]
  },
  {
   "cell_type": "code",
   "execution_count": null,
   "metadata": {},
   "outputs": [],
   "source": []
  }
 ],
 "metadata": {
  "kernelspec": {
   "display_name": "Python 3",
   "language": "python",
   "name": "python3"
  },
  "language_info": {
   "codemirror_mode": {
    "name": "ipython",
    "version": 3
   },
   "file_extension": ".py",
   "mimetype": "text/x-python",
   "name": "python",
   "nbconvert_exporter": "python",
   "pygments_lexer": "ipython3",
   "version": "3.7.4"
  }
 },
 "nbformat": 4,
 "nbformat_minor": 2
}
