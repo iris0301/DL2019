{
 "cells": [
  {
   "cell_type": "code",
   "execution_count": 140,
   "metadata": {},
   "outputs": [
    {
     "name": "stdout",
     "output_type": "stream",
     "text": [
      "Automatically created module for IPython interactive environment\n",
      "[['i m realiz tonight i was a titti man 😂 😎' 'positive']\n",
      " ['such a capper' 'neutral']\n",
      " ['you actin like you realli want it you gon get it onc i fuck you good i got you in your feel 😋'\n",
      "  'positive']\n",
      " ['i rememb where i was when i first heard this song will alway be my favorit'\n",
      "  'positive']\n",
      " ['you don t need the cupcak ken cmon now' 'neutral']\n",
      " ['ikyfl 😭' 'negative']\n",
      " ['cant go back to sleep' 'negative']\n",
      " ['haha true 😂' 'positive']\n",
      " ['bounc that shit forev she on both knee' 'negative']\n",
      " ['btw i devour your blog the other day love it and will be back'\n",
      "  'positive']]\n",
      "1811\n"
     ]
    }
   ],
   "source": [
    "%matplotlib inline\n",
    "\n",
    "print(__doc__)\n",
    "\n",
    "import numpy as np\n",
    "import matplotlib.pyplot as plt\n",
    "import re\n",
    "import json\n",
    "import nltk\n",
    "try:\n",
    "    nltk.data.find('corpora/stopwords')\n",
    "except LookupError:\n",
    "    nltk.download('stopwords')\n",
    "    nltk.download(\"words\")\n",
    "\n",
    "from nltk.corpus import stopwords\n",
    "from nltk.stem import SnowballStemmer\n",
    "from nltk.tokenize import RegexpTokenizer\n",
    "from nltk.corpus import wordnet\n",
    "#from mpl_toolkits.mplot3d import Axes3D\n",
    "#from mpl_toolkits.mplot3d import proj3d\n",
    "import csv\n",
    "\n",
    "with open('emoji/emoji_final_join.json',encoding='utf-8') as f: \n",
    "    emoji_list = json.load(f)\n",
    "\n",
    "def split(word): \n",
    "    return list(word) \n",
    "\n",
    "def clean(text,emoji):\n",
    "    am = text\n",
    "    text = text.lower()\n",
    "    \n",
    "    text = ' '.join(re.sub(\"(@[A-Za-z0-9]+)|([^0-9A-Za-z \\t])|(\\w+:\\/\\/\\S+)\", \" \", text).split()) \n",
    "    text = text.split()\n",
    "\n",
    "    newtext = [x for x in text if not x.startswith('@') and not x.startswith('https')]\n",
    "    newtext = ' '.join(newtext)\n",
    "    \n",
    "    tokenizer = RegexpTokenizer(r'\\w+')\n",
    "    newtext = tokenizer.tokenize(newtext)\n",
    "    #stop_words = stopwords.words('english')\n",
    "    #newtext =  [w for w in newtext if not w in stop_words]\n",
    "    #stopwords.words will delete word 'not' which is important for sentiment analysis, so we don't remove stopwords.\n",
    "    stemmer = SnowballStemmer('english')\n",
    "    newtext = list(map(stemmer.stem, newtext))\n",
    "    emojis = split(emoji)\n",
    "    newtext = newtext + emojis\n",
    "    label = 0\n",
    "    for ele in newtext:\n",
    "        if ele =='amp':\n",
    "            label = 1\n",
    "\n",
    "    newtext = ' '.join(newtext)\n",
    "    if label == 1:\n",
    "        newtext = newtext.replace('amp','and')\n",
    "   \n",
    "    #print(newtext)\n",
    "    return newtext\n",
    "    \n",
    "\n",
    "\n",
    "\n",
    "with open('smalldata.csv',encoding=\"utf8\") as words_file:\n",
    "    csv_reader = csv.DictReader(words_file, delimiter = ',')\n",
    "    data = []\n",
    "    for row in csv_reader:\n",
    "        cleaned_row = []\n",
    "        clean_text = clean(row['Text'],row['Emoji'])\n",
    "        \n",
    "        if len(clean_text) == 0:\n",
    "            continue\n",
    "            \n",
    "        if float(row['Sentiment']) > 0 and int(row['Sentiment140']) == 4:\n",
    "            sentiment = 'positive'\n",
    "        elif float(row['Sentiment']) < 0 and int(row['Sentiment140']) == 0:\n",
    "            sentiment = 'negative'\n",
    "        elif float(row['Sentiment']) == 0 and int(row['Sentiment140']) == 2:\n",
    "            if float(row['Emoji_sentiment']) > 0:\n",
    "                sentiment = 'positive'\n",
    "            elif float(row['Emoji_sentiment']) < 0:\n",
    "                sentiment = 'negative'\n",
    "            else:\n",
    "                sentiment = 'neutral'\n",
    "        elif float(row['Sentiment']) == 0:\n",
    "            if int(row['Sentiment140']) == 0:\n",
    "                sentiment = 'negative'\n",
    "            if int(row['Sentiment140']) == 4:\n",
    "                sentiment = 'positive'\n",
    "        elif int(row['Sentiment140']) == 2:\n",
    "            if float(row['Sentiment']) < 0:\n",
    "                sentiment = 'negative'\n",
    "            if float(row['Sentiment']) > 0:\n",
    "                sentiment = 'positive'\n",
    "        else:\n",
    "            continue\n",
    "            \n",
    "        \n",
    "        cleaned_row.append(clean_text)\n",
    "        cleaned_row.append(sentiment)\n",
    "        #cleaned_row.append(row['Emoji'])\n",
    "        data.append(np.array(cleaned_row))\n",
    "    data = np.array(data)\n",
    "    \n",
    "print(data[:10])\n",
    "print(len(data))"
   ]
  },
  {
   "cell_type": "code",
   "execution_count": 141,
   "metadata": {},
   "outputs": [
    {
     "name": "stdout",
     "output_type": "stream",
     "text": [
      "0\n"
     ]
    }
   ],
   "source": [
    "a=0\n",
    "for ele in data:\n",
    "    if ele[1] == '':\n",
    "        a = a+1\n",
    "print(a)"
   ]
  },
  {
   "cell_type": "code",
   "execution_count": 143,
   "metadata": {},
   "outputs": [
    {
     "name": "stdout",
     "output_type": "stream",
     "text": [
      "['positive' 'neutral' 'positive' ... 'neutral' 'neutral' 'positive']\n",
      "['i m realiz tonight i was a titti man 😂 😎' 'such a capper'\n",
      " 'you actin like you realli want it you gon get it onc i fuck you good i got you in your feel 😋'\n",
      " ... 'quiero cerrar todo por un tiempo'\n",
      " 'make a comeback don t call it a comeback though' 'right lol']\n"
     ]
    }
   ],
   "source": [
    "Y = data[:,1]\n",
    "X = data[:,0]\n",
    "print(Y)\n",
    "print(X)"
   ]
  },
  {
   "cell_type": "code",
   "execution_count": null,
   "metadata": {},
   "outputs": [],
   "source": []
  }
 ],
 "metadata": {
  "kernelspec": {
   "display_name": "Python 3",
   "language": "python",
   "name": "python3"
  },
  "language_info": {
   "codemirror_mode": {
    "name": "ipython",
    "version": 3
   },
   "file_extension": ".py",
   "mimetype": "text/x-python",
   "name": "python",
   "nbconvert_exporter": "python",
   "pygments_lexer": "ipython3",
   "version": "3.7.4"
  }
 },
 "nbformat": 4,
 "nbformat_minor": 2
}
