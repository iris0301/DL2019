{
 "cells": [
  {
   "cell_type": "code",
   "execution_count": 1,
   "metadata": {},
   "outputs": [
    {
     "name": "stdout",
     "output_type": "stream",
     "text": [
      "Automatically created module for IPython interactive environment\n"
     ]
    },
    {
     "name": "stderr",
     "output_type": "stream",
     "text": [
      "[nltk_data] Downloading package wordnet to\n",
      "[nltk_data]     /Users/iris0301/nltk_data...\n",
      "[nltk_data]   Unzipping corpora/wordnet.zip.\n"
     ]
    },
    {
     "name": "stdout",
     "output_type": "stream",
     "text": [
      "[['realiz tonight titti man 😂 😎' 'positive']\n",
      " ['capper' 'neutral']\n",
      " ['actin like realli want gon get fuck good get feel 😋' 'positive']\n",
      " ['rememb first hear song alway favorit' 'positive']\n",
      " ['don t need cupcak ken cmon' 'neutral']\n",
      " ['ikyfl 😭' 'negative']\n",
      " ['cant go back sleep' 'negative']\n",
      " ['haha true 😂' 'positive']\n",
      " ['bounc shit forev knee' 'negative']\n",
      " ['btw devour blog day love back' 'positive']\n",
      " ['get forev onli god know much love mrsgarza' 'positive']\n",
      " ['alway felt should lion senat presid glad neither' 'positive']\n",
      " ['daniel tell drink more wine while alreadi kinda buzz' 'positive']\n",
      " ['don t do drug kid 🤧' 'negative']\n",
      " ['twitter get troubl parent idc sad' 'negative']\n",
      " ['don t even get fade anymor' 'negative']\n",
      " ['win t help california forest fire' 'neutral']\n",
      " ['probabl would ve die go astro fest' 'negative']\n",
      " ['can disappear no one would notic' 'neutral']\n",
      " ['funclejustin' 'neutral']]\n",
      "1804\n"
     ]
    }
   ],
   "source": [
    "print(__doc__)\n",
    "\n",
    "import numpy as np\n",
    "import re\n",
    "import json\n",
    "import nltk\n",
    "try:\n",
    "    nltk.data.find('corpora/stopwords')\n",
    "except LookupError:\n",
    "    nltk.download('stopwords')\n",
    "    nltk.download(\"words\")\n",
    "nltk.download('wordnet')\n",
    "from nltk.stem.wordnet import WordNetLemmatizer\n",
    "\n",
    "from nltk.corpus import stopwords\n",
    "from nltk.stem import SnowballStemmer\n",
    "from nltk.tokenize import RegexpTokenizer\n",
    "from nltk.corpus import wordnet\n",
    "import csv\n",
    "\n",
    "with open('emoji/emoji_final_join.json',encoding='utf-8') as f: \n",
    "    emoji_list = json.load(f)\n",
    "\n",
    "\n",
    "stop_word = [line.rstrip('\\r\\n') for line in open(\"stop_words.txt\")]\n",
    "\n",
    "    \n",
    "\n",
    "def split(word): \n",
    "    return list(word) \n",
    "\n",
    "def clean(text,emoji):\n",
    "    am = text\n",
    "    text = text.lower()\n",
    "    \n",
    "    text = ' '.join(re.sub(\"(@[A-Za-z0-9]+)|([^0-9A-Za-z \\t])|(\\w+:\\/\\/\\S+)\", \" \", text).split()) \n",
    "    text = text.split()\n",
    "\n",
    "    newtext = [x for x in text if not x.startswith('@') and not x.startswith('https')]\n",
    "    newtext = [x for x in text if x not in stop_word]\n",
    "    newtext = [WordNetLemmatizer().lemmatize(x,'v') for x in newtext]\n",
    "    newtext = ' '.join(newtext)\n",
    "    \n",
    "    tokenizer = RegexpTokenizer(r'\\w+')\n",
    "    newtext = tokenizer.tokenize(newtext)\n",
    "    #stop_words = stopwords.words('english')\n",
    "    #newtext =  [w for w in newtext if not w in stop_words]\n",
    "    #stopwords.words will delete word 'not' which is important for sentiment analysis, so we don't remove stopwords.\n",
    "    stemmer = SnowballStemmer('english')\n",
    "    newtext = list(map(stemmer.stem, newtext))\n",
    "    emojis = split(emoji)\n",
    "    newtext = newtext + emojis\n",
    "    label = 0\n",
    "    for ele in newtext:\n",
    "        if ele =='amp':\n",
    "            label = 1\n",
    "\n",
    "    newtext = ' '.join(newtext)\n",
    "    if label == 1:\n",
    "        newtext = newtext.replace('amp','and')\n",
    "   \n",
    "    #print(newtext)\n",
    "    return newtext\n",
    "    \n",
    "\n",
    "\n",
    "\n",
    "with open('smalldata.csv',encoding=\"utf8\") as words_file:\n",
    "    csv_reader = csv.DictReader(words_file, delimiter = ',')\n",
    "    data = []\n",
    "    for row in csv_reader:\n",
    "        cleaned_row = []\n",
    "        clean_text = clean(row['Text'],row['Emoji'])\n",
    "        \n",
    "        if len(clean_text) == 0:\n",
    "            continue\n",
    "            \n",
    "        if float(row['Sentiment']) > 0 and int(row['Sentiment140']) == 4:\n",
    "            sentiment = 'positive'\n",
    "        elif float(row['Sentiment']) < 0 and int(row['Sentiment140']) == 0:\n",
    "            sentiment = 'negative'\n",
    "        elif float(row['Sentiment']) == 0 and int(row['Sentiment140']) == 2:\n",
    "            if float(row['Emoji_sentiment']) > 0:\n",
    "                sentiment = 'positive'\n",
    "            elif float(row['Emoji_sentiment']) < 0:\n",
    "                sentiment = 'negative'\n",
    "            else:\n",
    "                sentiment = 'neutral'\n",
    "        elif float(row['Sentiment']) == 0:\n",
    "            if int(row['Sentiment140']) == 0:\n",
    "                sentiment = 'negative'\n",
    "            if int(row['Sentiment140']) == 4:\n",
    "                sentiment = 'positive'\n",
    "        elif int(row['Sentiment140']) == 2:\n",
    "            if float(row['Sentiment']) < 0:\n",
    "                sentiment = 'negative'\n",
    "            if float(row['Sentiment']) > 0:\n",
    "                sentiment = 'positive'\n",
    "        else:\n",
    "            continue\n",
    "            \n",
    "        \n",
    "        cleaned_row.append(clean_text)\n",
    "        cleaned_row.append(sentiment)\n",
    "        #cleaned_row.append(row['Emoji'])\n",
    "        data.append(np.array(cleaned_row))\n",
    "    data = np.array(data)\n",
    "    \n",
    "print(data[:20])\n",
    "print(len(data))"
   ]
  },
  {
   "cell_type": "code",
   "execution_count": null,
   "metadata": {},
   "outputs": [],
   "source": [
    "a=0\n",
    "for ele in data:\n",
    "    if ele[1] == '':\n",
    "        a = a+1\n",
    "print(a)"
   ]
  },
  {
   "cell_type": "code",
   "execution_count": 3,
   "metadata": {},
   "outputs": [
    {
     "name": "stdout",
     "output_type": "stream",
     "text": [
      "['positive' 'neutral' 'positive' ... 'neutral' 'neutral' 'positive']\n",
      "['realiz tonight titti man 😂 😎' 'capper'\n",
      " 'actin like realli want gon get fuck good get feel 😋' ...\n",
      " 'quiero cerrar todo por un tiempo'\n",
      " 'make comeback don t call comeback though' 'right lol']\n"
     ]
    }
   ],
   "source": [
    "Y = data[:,1]\n",
    "X = data[:,0]\n",
    "print(Y)\n",
    "print(X)"
   ]
  },
  {
   "cell_type": "code",
   "execution_count": 4,
   "metadata": {},
   "outputs": [
    {
     "name": "stdout",
     "output_type": "stream",
     "text": [
      "49\n",
      "1\n"
     ]
    }
   ],
   "source": [
    "max_=0\n",
    "min_=len(X[0])\n",
    "for ele in X:\n",
    "    ele = ele.split()\n",
    "    if len(ele)>max_:\n",
    "        max_ = len(ele)\n",
    "    if len(ele) < min_:\n",
    "        min_ = len(ele)\n",
    "print(max_)\n",
    "print(min_)"
   ]
  },
  {
   "cell_type": "code",
   "execution_count": null,
   "metadata": {},
   "outputs": [],
   "source": [
    "######verb \n",
    "import nltk\n",
    "nltk.download('wordnet')\n",
    "from nltk.stem.wordnet import WordNetLemmatizer\n",
    "words = ['xyldwd','went','going','dating']\n",
    "for word in words:\n",
    "    print (word,WordNetLemmatizer().lemmatize(word,'v'))\n"
   ]
  },
  {
   "cell_type": "code",
   "execution_count": null,
   "metadata": {},
   "outputs": [],
   "source": []
  }
 ],
 "metadata": {
  "kernelspec": {
   "display_name": "Python 3",
   "language": "python",
   "name": "python3"
  },
  "language_info": {
   "codemirror_mode": {
    "name": "ipython",
    "version": 3
   },
   "file_extension": ".py",
   "mimetype": "text/x-python",
   "name": "python",
   "nbconvert_exporter": "python",
   "pygments_lexer": "ipython3",
   "version": "3.7.4"
  }
 },
 "nbformat": 4,
 "nbformat_minor": 2
}
